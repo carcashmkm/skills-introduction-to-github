{
 "cells": [
  {
   "cell_type": "markdown",
   "id": "115229f7",
   "metadata": {},
   "source": [
    "In this project, you will have the opportunity to delve into the realm of movie reviews by analyzing a dataset sourced from the renowned `IMDB` database. Building upon the comprehensive knowledge and tools offered by the NLTK (Natural Language Toolkit) stack, which we have extensively covered in the preceding section, you will apply these skills in a practical real-life context.\n",
    "<br>\n",
    "<br>\n",
    "Your primary objective will be to explore the movie reviews dataset, which consists of a vast collection of textual reviews provided by users on the `IMDB` platform. By leveraging the power of the NLTK stack, you will employ a range of natural language processing techniques to extract valuable insights from the reviews.\n",
    "\n",
    "To begin with, you will preprocess the raw textual data, implementing essential steps such as tokenization, removing stop words, and performing stemming or lemmatization. This process will help transform the reviews into a more structured and manageable format, enabling further analysis.\n",
    "<br>\n",
    "<br>\n",
    "**By the end of the project, you will have gained invaluable experience in working with textual data, honed your natural language processing skills, and developed a solid understanding of how the NLTK stack can be effectively applied in real-life scenarios, particularly in the realm of movie reviews.**"
   ]
  },
  {
   "cell_type": "markdown",
   "id": "d7776c0f",
   "metadata": {},
   "source": [
    "### Project - Analyzing Movie Reviews using NLTK"
   ]
  },
  {
   "cell_type": "markdown",
   "id": "9808148a",
   "metadata": {},
   "source": [
    "![imdb](https://upload.wikimedia.org/wikipedia/commons/6/69/IMDB_Logo_2016.svg)"
   ]
  },
  {
   "cell_type": "markdown",
   "id": "ff1c14ef",
   "metadata": {},
   "source": [
    "# NLTK Adventures: Unleashing the Film Review Analyzer!\n",
    "\n",
    "You find yourself in a whimsical world where IMDb has enlisted your extraordinary skills as a Text Movie Review Analyst! Picture yourself entering the majestic office of your quirky boss, Mr. Cinema, a quircky boss with a passion for cinema. He eagerly awaits your presentation on how NLTK will revolutionize their movie review analysis.\n",
    "<br>\n",
    "<br>\n",
    "Your boss wants you to analyze a large chunk of movie reviews using `nltk`. He just heard about something called `text mining` and is super eager to try using Python to analyze user reviews for the first time!\n",
    "<br>\n",
    "<br>\n",
    "Let's start!"
   ]
  },
  {
   "cell_type": "markdown",
   "id": "31bcd50c",
   "metadata": {},
   "source": [
    "Load the `IMDB Dataset.csv` file using the `pandas` module. Save the dataframe with the name `imdb_data`.\n",
    "<br>\n",
    "*Hint: Check the `pandas.csv` function!*"
   ]
  },
  {
   "cell_type": "code",
   "execution_count": 2,
   "id": "17a05d7a",
   "metadata": {},
   "outputs": [],
   "source": [
    "### YOUR CODE HERE"
   ]
  },
  {
   "cell_type": "markdown",
   "id": "7adcdcb2",
   "metadata": {},
   "source": [
    "Subset the `review` column and store it in a variable called `reviews`.\n",
    "<br>\n",
    "*Hint: Check how to select columns in pandas!*"
   ]
  },
  {
   "cell_type": "code",
   "execution_count": 3,
   "id": "6987b133",
   "metadata": {},
   "outputs": [],
   "source": [
    "### YOUR CODE HERE"
   ]
  },
  {
   "cell_type": "markdown",
   "id": "fd48bf80",
   "metadata": {},
   "source": [
    "Transform the reviews object into a list of reviews. Each element in the list should contain a review. Name the new object `list_reviews`."
   ]
  },
  {
   "cell_type": "code",
   "execution_count": 4,
   "id": "dcc48fc8",
   "metadata": {},
   "outputs": [],
   "source": [
    "### YOUR CODE HERE"
   ]
  },
  {
   "cell_type": "markdown",
   "id": "6cd37936",
   "metadata": {},
   "source": [
    "Tokenize every review on the `list_reviews` into words. Save the new object (a new list) as `tokenized_reviews`."
   ]
  },
  {
   "cell_type": "code",
   "execution_count": 5,
   "id": "a28a0267",
   "metadata": {},
   "outputs": [],
   "source": [
    "### YOUR CODE HERE"
   ]
  },
  {
   "cell_type": "markdown",
   "id": "15800ffe",
   "metadata": {},
   "source": [
    "Perform token cleaning on every review of the list review, namely:\n",
    "- Remove stop words\n",
    "- lower case every word\n",
    "- remove punctuation.\n",
    "<br>\n",
    "You can save the cleaned tokens in a new object `cleaned_tokens`."
   ]
  },
  {
   "cell_type": "code",
   "execution_count": 7,
   "id": "9215f202",
   "metadata": {},
   "outputs": [],
   "source": [
    "### YOUR CODE HERE"
   ]
  },
  {
   "cell_type": "markdown",
   "id": "a6ecbc56",
   "metadata": {},
   "source": [
    "Check the most common tokens of the 81th review (80th index). Which movie may it refer to?"
   ]
  },
  {
   "cell_type": "code",
   "execution_count": 44,
   "id": "382b3cc7",
   "metadata": {},
   "outputs": [],
   "source": [
    "### YOUR CODE HERE"
   ]
  },
  {
   "cell_type": "markdown",
   "id": "412879bf",
   "metadata": {},
   "source": [
    "Check the top 10 words of the entire corpus:"
   ]
  },
  {
   "cell_type": "code",
   "execution_count": 9,
   "id": "ecaaee66",
   "metadata": {},
   "outputs": [],
   "source": [
    "### YOUR CODE HERE"
   ]
  },
  {
   "cell_type": "markdown",
   "id": "94fe03c4",
   "metadata": {},
   "source": [
    "Use a `pos_tag` to produce a version of the tokens with the respective POS_TAG. Use the off-the-shelf version of `nltk` and only tag the first 10000 reviews.\n",
    "<br>\n",
    "Name the new list of reviews with part-of-speech tags `tagged_reviews`."
   ]
  },
  {
   "cell_type": "code",
   "execution_count": 11,
   "id": "9271c3c5",
   "metadata": {},
   "outputs": [],
   "source": [
    "### YOUR CODE HERE"
   ]
  },
  {
   "cell_type": "markdown",
   "id": "84727db7",
   "metadata": {},
   "source": [
    "Based on the `tagged_reviews` object, create a new list of lists called `adjectives` where you will have a list of every adjective per review."
   ]
  },
  {
   "cell_type": "code",
   "execution_count": 12,
   "id": "e24686e4",
   "metadata": {},
   "outputs": [],
   "source": [
    "### YOUR CODE HERE"
   ]
  },
  {
   "cell_type": "markdown",
   "id": "50039f48",
   "metadata": {},
   "source": [
    "Based on the column `sentiment` of the dataframe `imdb_data`, split the `adjectives` list into two lists: `adjectives_positive` and `adjectives_negative`. The `adjectives_positive` should contain be a list (not a list of lists) with all adjectives that are tied to positive reviews. The adjective negative should be a similar list with all adjectives that are tied to negative reviews."
   ]
  },
  {
   "cell_type": "code",
   "execution_count": 13,
   "id": "1e72fb33",
   "metadata": {},
   "outputs": [],
   "source": [
    "### YOUR CODE HERE"
   ]
  },
  {
   "cell_type": "markdown",
   "id": "c654c133",
   "metadata": {},
   "source": [
    "Extract the top 50 common adjectives for negative and positive reviews. Save them in a dataframe with the number of times each adjective appears in positive or negative reviews. For example, if an adjective appear 5 times in the top 50 of negative list and it does not appear in the top 50 of the positive list, mark it as `0` in this new dataframe (call it `top_adjectives`)."
   ]
  },
  {
   "cell_type": "code",
   "execution_count": 15,
   "id": "1e2e880d",
   "metadata": {},
   "outputs": [],
   "source": [
    "### YOUR CODE HERE"
   ]
  },
  {
   "cell_type": "markdown",
   "id": "70e1bb0d",
   "metadata": {},
   "source": [
    "Which adjective seems to be more overweighted (meaning that it seems to appear very often on negative reviews and not on positive ones) on negative reviews?"
   ]
  },
  {
   "cell_type": "code",
   "execution_count": 2,
   "id": "a8d64c51",
   "metadata": {},
   "outputs": [],
   "source": [
    "### YOUR CODE HERE"
   ]
  },
  {
   "cell_type": "markdown",
   "id": "cce07bb9",
   "metadata": {},
   "source": [
    "And on the positive reviews? Do we have more than one objective that is overweighted?"
   ]
  },
  {
   "cell_type": "code",
   "execution_count": 1,
   "id": "dd3e58c3",
   "metadata": {},
   "outputs": [],
   "source": [
    "### YOUR CODE HERE"
   ]
  },
  {
   "cell_type": "markdown",
   "id": "7b2849de",
   "metadata": {},
   "source": [
    "Based on the `cleaned_tokens` object, stem all words available in our reviews and save the object in a new list of lists. Named the new object `stemmed_tokens`. Use the `SnowballStemmer`."
   ]
  },
  {
   "cell_type": "code",
   "execution_count": 20,
   "id": "6112f0b3",
   "metadata": {},
   "outputs": [],
   "source": [
    "### YOUR CODE HERE"
   ]
  },
  {
   "cell_type": "markdown",
   "id": "c3120d25",
   "metadata": {},
   "source": [
    "Add the percentage of retained data (number of characters retained for each review in the `cleaned_tokens` divided by the number of characters of the original review) to the `imdb_data`. Name the new column `perc_retain_stemming`. Which review loses more data with stemming? \n",
    "<br>\n",
    "<br>\n",
    "After finding it, print the review and the stemmed version of that review."
   ]
  },
  {
   "cell_type": "code",
   "execution_count": 28,
   "id": "91abfb23",
   "metadata": {},
   "outputs": [],
   "source": [
    "### YOUR CODE HERE"
   ]
  },
  {
   "cell_type": "markdown",
   "id": "ed17e6e1",
   "metadata": {},
   "source": [
    "What conclusion do you have after reading that review?"
   ]
  },
  {
   "cell_type": "markdown",
   "id": "e71dba9c",
   "metadata": {},
   "source": [
    "- YOUR ANSWER HERE"
   ]
  }
 ],
 "metadata": {
  "kernelspec": {
   "display_name": "Python 3 (ipykernel)",
   "language": "python",
   "name": "python3"
  },
  "language_info": {
   "codemirror_mode": {
    "name": "ipython",
    "version": 3
   },
   "file_extension": ".py",
   "mimetype": "text/x-python",
   "name": "python",
   "nbconvert_exporter": "python",
   "pygments_lexer": "ipython3",
   "version": "3.9.13"
  }
 },
 "nbformat": 4,
 "nbformat_minor": 5
}
