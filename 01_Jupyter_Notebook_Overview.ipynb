{
  "cells": [
    {
      "cell_type": "markdown",
      "metadata": {
        "id": "view-in-github",
        "colab_type": "text"
      },
      "source": [
        "<a href=\"https://colab.research.google.com/github/carcashmkm/skills-introduction-to-github/blob/main/01_Jupyter_Notebook_Overview.ipynb\" target=\"_parent\"><img src=\"https://colab.research.google.com/assets/colab-badge.svg\" alt=\"Open In Colab\"/></a>"
      ]
    },
    {
      "cell_type": "markdown",
      "metadata": {
        "id": "l2k76NsI2bn-"
      },
      "source": [
        "***\n",
        "Hi and welcome to this `Python basics course`!\n",
        "<br>\n",
        "<br>\n",
        "This crash course will serve as an introduction for courses where we will use `Python` as our programming language and will be a way for you to get introduced into it.\n",
        "***"
      ]
    },
    {
      "cell_type": "markdown",
      "metadata": {
        "id": "x0f4147B2boK"
      },
      "source": [
        "As we've said in the \"Jupyter introduction\", this is a markdown text - we use this as a way to communicate in Notebooks and we can select these types of cells in the dropdown above."
      ]
    },
    {
      "cell_type": "markdown",
      "metadata": {
        "id": "aHHhyzRm2boM"
      },
      "source": [
        "Each cell will run as you put code in it - cells interpretd as code have the the type `Code` in the dropdown."
      ]
    },
    {
      "cell_type": "markdown",
      "metadata": {
        "id": "ZAY_QQ8M2boO"
      },
      "source": [
        "When a code is executing you will see the `*` symbol near the square brackets on the left. For smaller instructions, this `*` is shown for miliseconds:"
      ]
    },
    {
      "cell_type": "code",
      "source": [
        "print ('this is Mohamed')"
      ],
      "metadata": {
        "colab": {
          "base_uri": "https://localhost:8080/"
        },
        "id": "eFnaUw3ctRe7",
        "outputId": "a6f64aaa-5e34-42c8-be4c-dad8ddc3d9e8"
      },
      "execution_count": 2,
      "outputs": [
        {
          "output_type": "stream",
          "name": "stdout",
          "text": [
            "this is Mohamed\n"
          ]
        }
      ]
    },
    {
      "cell_type": "markdown",
      "metadata": {
        "id": "TIu7BX-d2boU"
      },
      "source": [
        "The **out[]** tag will indicate the output of a specific cell. The code cell will produce a result that you can always check below."
      ]
    },
    {
      "cell_type": "code",
      "execution_count": null,
      "metadata": {
        "id": "6PbzJ4kg2boX",
        "outputId": "090f1c10-04b4-4eb8-e429-12491656ed4b"
      },
      "outputs": [
        {
          "data": {
            "text/plain": [
              "'Hello world!'"
            ]
          },
          "execution_count": 5,
          "metadata": {},
          "output_type": "execute_result"
        }
      ],
      "source": [
        "'Hello world!'"
      ]
    },
    {
      "cell_type": "markdown",
      "metadata": {
        "id": "LBJNoDacs_0t"
      },
      "source": [
        "We can also do prints:"
      ]
    },
    {
      "cell_type": "code",
      "execution_count": null,
      "metadata": {
        "id": "mwTwmv1hs_0t",
        "outputId": "4f64f1a8-d462-44a9-d42b-62a46d8a2ccc"
      },
      "outputs": [
        {
          "name": "stdout",
          "output_type": "stream",
          "text": [
            "Hello world!\n"
          ]
        }
      ],
      "source": [
        "print('Hello world!')"
      ]
    }
  ],
  "metadata": {
    "colab": {
      "provenance": [],
      "toc_visible": true,
      "include_colab_link": true
    },
    "kernelspec": {
      "display_name": "Python [conda env:pythonquickcourse] *",
      "language": "python",
      "name": "conda-env-pythonquickcourse-py"
    },
    "language_info": {
      "codemirror_mode": {
        "name": "ipython",
        "version": 3
      },
      "file_extension": ".py",
      "mimetype": "text/x-python",
      "name": "python",
      "nbconvert_exporter": "python",
      "pygments_lexer": "ipython3",
      "version": "3.7.13"
    }
  },
  "nbformat": 4,
  "nbformat_minor": 0
}