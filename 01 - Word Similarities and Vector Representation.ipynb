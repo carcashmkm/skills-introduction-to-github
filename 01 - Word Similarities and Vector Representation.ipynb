{
  "cells": [
    {
      "cell_type": "markdown",
      "metadata": {
        "id": "7lxKiy8PF9hs"
      },
      "source": [
        "***\n",
        "Welcome to this notebook!\n",
        "\n",
        "In this  exploration, we will dive deep into the intriguing realm of transforming words into numerical representations and uncovering the remarkable ability to convey rich semantic relationships between words using **mathematical vectors**.\n",
        "\n",
        "Throughout this journey, we will unravel the inner workings of various word embedding techniques and discover the profound implications they have on natural language processing tasks. From classic methods like one-hot encoding to more sophisticated approaches such as word2vec and GloVe, we will examine the foundations and principles that underpin these techniques.\n",
        "\n",
        "By leveraging these powerful tools, we can represent words as points in high-dimensional vector spaces, where each dimension encapsulates meaningful semantic information. Through this process, we unlock the ability to quantify the semantic similarity between words, capture syntactic relationships, and even perform algebraic operations on these vector representations.\n",
        "<br>\n",
        "***"
      ]
    },
    {
      "cell_type": "code",
      "source": [
        "print ('Moh')"
      ],
      "metadata": {
        "colab": {
          "base_uri": "https://localhost:8080/"
        },
        "id": "xM3hitTeGSO_",
        "outputId": "d77ba2f3-7513-4397-baa4-57c1bb038486"
      },
      "execution_count": 7,
      "outputs": [
        {
          "output_type": "stream",
          "name": "stdout",
          "text": [
            "Moh\n"
          ]
        }
      ]
    },
    {
      "cell_type": "code",
      "execution_count": null,
      "metadata": {
        "id": "h-E4oalMF9hx"
      },
      "outputs": [],
      "source": [
        "# Import our libraries\n",
        "import numpy as np\n",
        "from nltk.tokenize import word_tokenize\n",
        "import pandas as pd\n",
        "from sklearn.decomposition import PCA\n",
        "import matplotlib.pyplot as plt\n",
        "import seaborn\n",
        "seaborn.set(style='ticks')\n",
        "\n",
        "from sklearn.metrics.pairwise import cosine_similarity, euclidean_distances"
      ]
    },
    {
      "cell_type": "markdown",
      "metadata": {
        "id": "cmO_aQ8MF9hy"
      },
      "source": [
        "Let's start with a simple exercise - imagine that you would like to tell if `banana` and `orange` are similar words. For a human, we can visualize two fruits - we can understand some degree of similarity by the fact that they belong to a big category called *fruits*. For a computer, these words are just two representations of binary elements (as we've seen before).\n",
        "<br>\n",
        "<br>"
      ]
    },
    {
      "cell_type": "markdown",
      "metadata": {
        "id": "xvCwRUCfF9hz"
      },
      "source": [
        "Let's build some simple sentences where these two words `orange`, `banana` and other fruits may appear:"
      ]
    },
    {
      "cell_type": "code",
      "execution_count": 4,
      "metadata": {
        "id": "HF1Q--WiF9hz"
      },
      "outputs": [],
      "source": [
        "sentences = ['I bought a pear',\n",
        "             'I eat a banana',\n",
        "             'I ate a banana',\n",
        "             'I ate a pear',\n",
        "             'I carry a banana',\n",
        "             'He ate a pear',\n",
        "            'He bought a banana',\n",
        "             'She eats a pear',\n",
        "             'They ate a banana',\n",
        "             'We bought a pear',\n",
        "             'She ate a banana',\n",
        "             'He carries a banana',\n",
        "             'They ate a pear',\n",
        "             'We bought a banana',\n",
        "             'She ate a orange',\n",
        "             'He carries a orange',\n",
        "             'They carry a orange',\n",
        "             'They carry a banana',\n",
        "             'They carry a pear']"
      ]
    },
    {
      "cell_type": "markdown",
      "metadata": {
        "id": "07GVUVNDF9h0"
      },
      "source": [
        "**How can we represent these words in terms of their relationship between each other?**"
      ]
    },
    {
      "cell_type": "markdown",
      "metadata": {
        "id": "GymMEWtOF9h0"
      },
      "source": [
        "First idea: we could, as an example, represent each one of them as a vector of ones and zeros - first we extract the list of the distinct words in our vocabulary:"
      ]
    },
    {
      "cell_type": "code",
      "execution_count": 5,
      "metadata": {
        "id": "V2IUJLvfF9h0"
      },
      "outputs": [],
      "source": [
        "bag_words = ' '.join(sentences).lower()"
      ]
    },
    {
      "cell_type": "code",
      "execution_count": 6,
      "metadata": {
        "colab": {
          "base_uri": "https://localhost:8080/",
          "height": 70
        },
        "id": "v1VIZSxwF9h1",
        "outputId": "c2f069a0-1200-4e1f-d540-ce7a5db77559"
      },
      "outputs": [
        {
          "output_type": "execute_result",
          "data": {
            "text/plain": [
              "'i bought a pear i eat a banana i ate a banana i ate a pear i carry a banana he ate a pear he bought a banana she eats a pear they ate a banana we bought a pear she ate a banana he carries a banana they ate a pear we bought a banana she ate a orange he carries a orange they carry a orange they carry a banana they carry a pear'"
            ],
            "application/vnd.google.colaboratory.intrinsic+json": {
              "type": "string"
            }
          },
          "metadata": {},
          "execution_count": 6
        }
      ],
      "source": [
        "bag_words"
      ]
    },
    {
      "cell_type": "code",
      "execution_count": null,
      "metadata": {
        "id": "rsdHouEuF9h1",
        "outputId": "bd4e3b53-51bd-4781-ff44-c309f612a4ce"
      },
      "outputs": [
        {
          "data": {
            "text/plain": [
              "{'a',\n",
              " 'ate',\n",
              " 'banana',\n",
              " 'bought',\n",
              " 'carries',\n",
              " 'carry',\n",
              " 'eat',\n",
              " 'eats',\n",
              " 'he',\n",
              " 'i',\n",
              " 'orange',\n",
              " 'pear',\n",
              " 'she',\n",
              " 'they',\n",
              " 'we'}"
            ]
          },
          "execution_count": 6,
          "metadata": {},
          "output_type": "execute_result"
        }
      ],
      "source": [
        "set(bag_words.split(' '))"
      ]
    },
    {
      "cell_type": "code",
      "execution_count": null,
      "metadata": {
        "id": "euZDfs81F9h2"
      },
      "outputs": [],
      "source": [
        "vocab = list(set(bag_words.split(' ')))"
      ]
    },
    {
      "cell_type": "code",
      "execution_count": null,
      "metadata": {
        "id": "65NyQT0TF9h2"
      },
      "outputs": [],
      "source": [
        "vocab.sort()"
      ]
    },
    {
      "cell_type": "markdown",
      "metadata": {
        "id": "CU2gFLGQF9h2"
      },
      "source": [
        "Let's see this in a `dataframe` format.\n",
        "<br>\n",
        "<br>\n",
        "**(if you are familiar with Numpy and vectors, feel free to visualize it in `numpy` - dataframes are easier for beginners, and I will always to show the `df` format.)**."
      ]
    },
    {
      "cell_type": "code",
      "execution_count": null,
      "metadata": {
        "id": "naR1slVHF9h2",
        "outputId": "dce3ac86-ee40-48fe-a6e1-bd9f35bb3802"
      },
      "outputs": [
        {
          "data": {
            "text/html": [
              "<div>\n",
              "<style scoped>\n",
              "    .dataframe tbody tr th:only-of-type {\n",
              "        vertical-align: middle;\n",
              "    }\n",
              "\n",
              "    .dataframe tbody tr th {\n",
              "        vertical-align: top;\n",
              "    }\n",
              "\n",
              "    .dataframe thead th {\n",
              "        text-align: right;\n",
              "    }\n",
              "</style>\n",
              "<table border=\"1\" class=\"dataframe\">\n",
              "  <thead>\n",
              "    <tr style=\"text-align: right;\">\n",
              "      <th></th>\n",
              "      <th>0</th>\n",
              "      <th>1</th>\n",
              "      <th>2</th>\n",
              "      <th>3</th>\n",
              "      <th>4</th>\n",
              "      <th>5</th>\n",
              "      <th>6</th>\n",
              "      <th>7</th>\n",
              "      <th>8</th>\n",
              "      <th>9</th>\n",
              "      <th>10</th>\n",
              "      <th>11</th>\n",
              "      <th>12</th>\n",
              "      <th>13</th>\n",
              "      <th>14</th>\n",
              "    </tr>\n",
              "  </thead>\n",
              "  <tbody>\n",
              "    <tr>\n",
              "      <th>a</th>\n",
              "      <td>1.0</td>\n",
              "      <td>0.0</td>\n",
              "      <td>0.0</td>\n",
              "      <td>0.0</td>\n",
              "      <td>0.0</td>\n",
              "      <td>0.0</td>\n",
              "      <td>0.0</td>\n",
              "      <td>0.0</td>\n",
              "      <td>0.0</td>\n",
              "      <td>0.0</td>\n",
              "      <td>0.0</td>\n",
              "      <td>0.0</td>\n",
              "      <td>0.0</td>\n",
              "      <td>0.0</td>\n",
              "      <td>0.0</td>\n",
              "    </tr>\n",
              "    <tr>\n",
              "      <th>ate</th>\n",
              "      <td>0.0</td>\n",
              "      <td>1.0</td>\n",
              "      <td>0.0</td>\n",
              "      <td>0.0</td>\n",
              "      <td>0.0</td>\n",
              "      <td>0.0</td>\n",
              "      <td>0.0</td>\n",
              "      <td>0.0</td>\n",
              "      <td>0.0</td>\n",
              "      <td>0.0</td>\n",
              "      <td>0.0</td>\n",
              "      <td>0.0</td>\n",
              "      <td>0.0</td>\n",
              "      <td>0.0</td>\n",
              "      <td>0.0</td>\n",
              "    </tr>\n",
              "    <tr>\n",
              "      <th>banana</th>\n",
              "      <td>0.0</td>\n",
              "      <td>0.0</td>\n",
              "      <td>1.0</td>\n",
              "      <td>0.0</td>\n",
              "      <td>0.0</td>\n",
              "      <td>0.0</td>\n",
              "      <td>0.0</td>\n",
              "      <td>0.0</td>\n",
              "      <td>0.0</td>\n",
              "      <td>0.0</td>\n",
              "      <td>0.0</td>\n",
              "      <td>0.0</td>\n",
              "      <td>0.0</td>\n",
              "      <td>0.0</td>\n",
              "      <td>0.0</td>\n",
              "    </tr>\n",
              "    <tr>\n",
              "      <th>bought</th>\n",
              "      <td>0.0</td>\n",
              "      <td>0.0</td>\n",
              "      <td>0.0</td>\n",
              "      <td>1.0</td>\n",
              "      <td>0.0</td>\n",
              "      <td>0.0</td>\n",
              "      <td>0.0</td>\n",
              "      <td>0.0</td>\n",
              "      <td>0.0</td>\n",
              "      <td>0.0</td>\n",
              "      <td>0.0</td>\n",
              "      <td>0.0</td>\n",
              "      <td>0.0</td>\n",
              "      <td>0.0</td>\n",
              "      <td>0.0</td>\n",
              "    </tr>\n",
              "    <tr>\n",
              "      <th>carries</th>\n",
              "      <td>0.0</td>\n",
              "      <td>0.0</td>\n",
              "      <td>0.0</td>\n",
              "      <td>0.0</td>\n",
              "      <td>1.0</td>\n",
              "      <td>0.0</td>\n",
              "      <td>0.0</td>\n",
              "      <td>0.0</td>\n",
              "      <td>0.0</td>\n",
              "      <td>0.0</td>\n",
              "      <td>0.0</td>\n",
              "      <td>0.0</td>\n",
              "      <td>0.0</td>\n",
              "      <td>0.0</td>\n",
              "      <td>0.0</td>\n",
              "    </tr>\n",
              "    <tr>\n",
              "      <th>carry</th>\n",
              "      <td>0.0</td>\n",
              "      <td>0.0</td>\n",
              "      <td>0.0</td>\n",
              "      <td>0.0</td>\n",
              "      <td>0.0</td>\n",
              "      <td>1.0</td>\n",
              "      <td>0.0</td>\n",
              "      <td>0.0</td>\n",
              "      <td>0.0</td>\n",
              "      <td>0.0</td>\n",
              "      <td>0.0</td>\n",
              "      <td>0.0</td>\n",
              "      <td>0.0</td>\n",
              "      <td>0.0</td>\n",
              "      <td>0.0</td>\n",
              "    </tr>\n",
              "    <tr>\n",
              "      <th>eat</th>\n",
              "      <td>0.0</td>\n",
              "      <td>0.0</td>\n",
              "      <td>0.0</td>\n",
              "      <td>0.0</td>\n",
              "      <td>0.0</td>\n",
              "      <td>0.0</td>\n",
              "      <td>1.0</td>\n",
              "      <td>0.0</td>\n",
              "      <td>0.0</td>\n",
              "      <td>0.0</td>\n",
              "      <td>0.0</td>\n",
              "      <td>0.0</td>\n",
              "      <td>0.0</td>\n",
              "      <td>0.0</td>\n",
              "      <td>0.0</td>\n",
              "    </tr>\n",
              "    <tr>\n",
              "      <th>eats</th>\n",
              "      <td>0.0</td>\n",
              "      <td>0.0</td>\n",
              "      <td>0.0</td>\n",
              "      <td>0.0</td>\n",
              "      <td>0.0</td>\n",
              "      <td>0.0</td>\n",
              "      <td>0.0</td>\n",
              "      <td>1.0</td>\n",
              "      <td>0.0</td>\n",
              "      <td>0.0</td>\n",
              "      <td>0.0</td>\n",
              "      <td>0.0</td>\n",
              "      <td>0.0</td>\n",
              "      <td>0.0</td>\n",
              "      <td>0.0</td>\n",
              "    </tr>\n",
              "    <tr>\n",
              "      <th>he</th>\n",
              "      <td>0.0</td>\n",
              "      <td>0.0</td>\n",
              "      <td>0.0</td>\n",
              "      <td>0.0</td>\n",
              "      <td>0.0</td>\n",
              "      <td>0.0</td>\n",
              "      <td>0.0</td>\n",
              "      <td>0.0</td>\n",
              "      <td>1.0</td>\n",
              "      <td>0.0</td>\n",
              "      <td>0.0</td>\n",
              "      <td>0.0</td>\n",
              "      <td>0.0</td>\n",
              "      <td>0.0</td>\n",
              "      <td>0.0</td>\n",
              "    </tr>\n",
              "    <tr>\n",
              "      <th>i</th>\n",
              "      <td>0.0</td>\n",
              "      <td>0.0</td>\n",
              "      <td>0.0</td>\n",
              "      <td>0.0</td>\n",
              "      <td>0.0</td>\n",
              "      <td>0.0</td>\n",
              "      <td>0.0</td>\n",
              "      <td>0.0</td>\n",
              "      <td>0.0</td>\n",
              "      <td>1.0</td>\n",
              "      <td>0.0</td>\n",
              "      <td>0.0</td>\n",
              "      <td>0.0</td>\n",
              "      <td>0.0</td>\n",
              "      <td>0.0</td>\n",
              "    </tr>\n",
              "    <tr>\n",
              "      <th>orange</th>\n",
              "      <td>0.0</td>\n",
              "      <td>0.0</td>\n",
              "      <td>0.0</td>\n",
              "      <td>0.0</td>\n",
              "      <td>0.0</td>\n",
              "      <td>0.0</td>\n",
              "      <td>0.0</td>\n",
              "      <td>0.0</td>\n",
              "      <td>0.0</td>\n",
              "      <td>0.0</td>\n",
              "      <td>1.0</td>\n",
              "      <td>0.0</td>\n",
              "      <td>0.0</td>\n",
              "      <td>0.0</td>\n",
              "      <td>0.0</td>\n",
              "    </tr>\n",
              "    <tr>\n",
              "      <th>pear</th>\n",
              "      <td>0.0</td>\n",
              "      <td>0.0</td>\n",
              "      <td>0.0</td>\n",
              "      <td>0.0</td>\n",
              "      <td>0.0</td>\n",
              "      <td>0.0</td>\n",
              "      <td>0.0</td>\n",
              "      <td>0.0</td>\n",
              "      <td>0.0</td>\n",
              "      <td>0.0</td>\n",
              "      <td>0.0</td>\n",
              "      <td>1.0</td>\n",
              "      <td>0.0</td>\n",
              "      <td>0.0</td>\n",
              "      <td>0.0</td>\n",
              "    </tr>\n",
              "    <tr>\n",
              "      <th>she</th>\n",
              "      <td>0.0</td>\n",
              "      <td>0.0</td>\n",
              "      <td>0.0</td>\n",
              "      <td>0.0</td>\n",
              "      <td>0.0</td>\n",
              "      <td>0.0</td>\n",
              "      <td>0.0</td>\n",
              "      <td>0.0</td>\n",
              "      <td>0.0</td>\n",
              "      <td>0.0</td>\n",
              "      <td>0.0</td>\n",
              "      <td>0.0</td>\n",
              "      <td>1.0</td>\n",
              "      <td>0.0</td>\n",
              "      <td>0.0</td>\n",
              "    </tr>\n",
              "    <tr>\n",
              "      <th>they</th>\n",
              "      <td>0.0</td>\n",
              "      <td>0.0</td>\n",
              "      <td>0.0</td>\n",
              "      <td>0.0</td>\n",
              "      <td>0.0</td>\n",
              "      <td>0.0</td>\n",
              "      <td>0.0</td>\n",
              "      <td>0.0</td>\n",
              "      <td>0.0</td>\n",
              "      <td>0.0</td>\n",
              "      <td>0.0</td>\n",
              "      <td>0.0</td>\n",
              "      <td>0.0</td>\n",
              "      <td>1.0</td>\n",
              "      <td>0.0</td>\n",
              "    </tr>\n",
              "    <tr>\n",
              "      <th>we</th>\n",
              "      <td>0.0</td>\n",
              "      <td>0.0</td>\n",
              "      <td>0.0</td>\n",
              "      <td>0.0</td>\n",
              "      <td>0.0</td>\n",
              "      <td>0.0</td>\n",
              "      <td>0.0</td>\n",
              "      <td>0.0</td>\n",
              "      <td>0.0</td>\n",
              "      <td>0.0</td>\n",
              "      <td>0.0</td>\n",
              "      <td>0.0</td>\n",
              "      <td>0.0</td>\n",
              "      <td>0.0</td>\n",
              "      <td>1.0</td>\n",
              "    </tr>\n",
              "  </tbody>\n",
              "</table>\n",
              "</div>"
            ],
            "text/plain": [
              "          0    1    2    3    4    5    6    7    8    9    10   11   12   13  \\\n",
              "a        1.0  0.0  0.0  0.0  0.0  0.0  0.0  0.0  0.0  0.0  0.0  0.0  0.0  0.0   \n",
              "ate      0.0  1.0  0.0  0.0  0.0  0.0  0.0  0.0  0.0  0.0  0.0  0.0  0.0  0.0   \n",
              "banana   0.0  0.0  1.0  0.0  0.0  0.0  0.0  0.0  0.0  0.0  0.0  0.0  0.0  0.0   \n",
              "bought   0.0  0.0  0.0  1.0  0.0  0.0  0.0  0.0  0.0  0.0  0.0  0.0  0.0  0.0   \n",
              "carries  0.0  0.0  0.0  0.0  1.0  0.0  0.0  0.0  0.0  0.0  0.0  0.0  0.0  0.0   \n",
              "carry    0.0  0.0  0.0  0.0  0.0  1.0  0.0  0.0  0.0  0.0  0.0  0.0  0.0  0.0   \n",
              "eat      0.0  0.0  0.0  0.0  0.0  0.0  1.0  0.0  0.0  0.0  0.0  0.0  0.0  0.0   \n",
              "eats     0.0  0.0  0.0  0.0  0.0  0.0  0.0  1.0  0.0  0.0  0.0  0.0  0.0  0.0   \n",
              "he       0.0  0.0  0.0  0.0  0.0  0.0  0.0  0.0  1.0  0.0  0.0  0.0  0.0  0.0   \n",
              "i        0.0  0.0  0.0  0.0  0.0  0.0  0.0  0.0  0.0  1.0  0.0  0.0  0.0  0.0   \n",
              "orange   0.0  0.0  0.0  0.0  0.0  0.0  0.0  0.0  0.0  0.0  1.0  0.0  0.0  0.0   \n",
              "pear     0.0  0.0  0.0  0.0  0.0  0.0  0.0  0.0  0.0  0.0  0.0  1.0  0.0  0.0   \n",
              "she      0.0  0.0  0.0  0.0  0.0  0.0  0.0  0.0  0.0  0.0  0.0  0.0  1.0  0.0   \n",
              "they     0.0  0.0  0.0  0.0  0.0  0.0  0.0  0.0  0.0  0.0  0.0  0.0  0.0  1.0   \n",
              "we       0.0  0.0  0.0  0.0  0.0  0.0  0.0  0.0  0.0  0.0  0.0  0.0  0.0  0.0   \n",
              "\n",
              "          14  \n",
              "a        0.0  \n",
              "ate      0.0  \n",
              "banana   0.0  \n",
              "bought   0.0  \n",
              "carries  0.0  \n",
              "carry    0.0  \n",
              "eat      0.0  \n",
              "eats     0.0  \n",
              "he       0.0  \n",
              "i        0.0  \n",
              "orange   0.0  \n",
              "pear     0.0  \n",
              "she      0.0  \n",
              "they     0.0  \n",
              "we       1.0  "
            ]
          },
          "execution_count": 9,
          "metadata": {},
          "output_type": "execute_result"
        }
      ],
      "source": [
        "pd.DataFrame(np.identity(len(vocab)), index = vocab)"
      ]
    },
    {
      "cell_type": "markdown",
      "metadata": {
        "id": "xtzJXk4WF9h2"
      },
      "source": [
        "So we have a vector 15 dimensions for each word with 1's and 0's. We know the first word has a 1 on the first position as it is the first word of our vocabulary.\n",
        "<br>\n",
        "<br>\n",
        "**But this is, generally, a bad representation for a word in terms of their similarity** - notice how *orange* and *she* are next to each other and they are not \"related\" words. Bought and banana are another example - just because words show up near each other in the alphabet, that doesn't mean that they are related in their meaning."
      ]
    },
    {
      "cell_type": "markdown",
      "metadata": {
        "id": "4PGpHho0F9h2"
      },
      "source": [
        "Let's see an alternative way of representing our words as vectors. **A really important concept in Natural Language Processing is that you can say much about a word by looking at it's neighbours**."
      ]
    },
    {
      "cell_type": "markdown",
      "metadata": {
        "id": "iyPXXXL9F9h3"
      },
      "source": [
        "We will implement a simple process that will create new vectors that are not binary ones - a radical new approach to check how words relate to each other."
      ]
    },
    {
      "cell_type": "code",
      "execution_count": null,
      "metadata": {
        "id": "jM_VGQefF9h3"
      },
      "outputs": [],
      "source": [
        "# Let's tokenize our sentences first\n",
        "tokenized_sentences = [word_tokenize(sentence.lower()) for sentence in sentences]"
      ]
    },
    {
      "cell_type": "code",
      "execution_count": null,
      "metadata": {
        "id": "o8p-P28WF9h3",
        "outputId": "9b1f1b1e-3075-4eb3-86dd-7ba6b57ff8a2"
      },
      "outputs": [
        {
          "data": {
            "text/plain": [
              "[['i', 'bought', 'a', 'pear'],\n",
              " ['i', 'eat', 'a', 'banana'],\n",
              " ['i', 'ate', 'a', 'banana'],\n",
              " ['i', 'ate', 'a', 'pear'],\n",
              " ['i', 'carry', 'a', 'banana'],\n",
              " ['he', 'ate', 'a', 'pear'],\n",
              " ['he', 'bought', 'a', 'banana'],\n",
              " ['she', 'eats', 'a', 'pear'],\n",
              " ['they', 'ate', 'a', 'banana'],\n",
              " ['we', 'bought', 'a', 'pear'],\n",
              " ['she', 'ate', 'a', 'banana'],\n",
              " ['he', 'carries', 'a', 'banana'],\n",
              " ['they', 'ate', 'a', 'pear'],\n",
              " ['we', 'bought', 'a', 'banana'],\n",
              " ['she', 'ate', 'a', 'orange'],\n",
              " ['he', 'carries', 'a', 'orange'],\n",
              " ['they', 'carry', 'a', 'orange'],\n",
              " ['they', 'carry', 'a', 'banana'],\n",
              " ['they', 'carry', 'a', 'pear']]"
            ]
          },
          "execution_count": 11,
          "metadata": {},
          "output_type": "execute_result"
        }
      ],
      "source": [
        "tokenized_sentences"
      ]
    },
    {
      "cell_type": "markdown",
      "metadata": {
        "id": "txNiQXzcF9h3"
      },
      "source": [
        "**Remember our vocab again:**"
      ]
    },
    {
      "cell_type": "code",
      "execution_count": null,
      "metadata": {
        "scrolled": true,
        "id": "B82pSCHBF9h3",
        "outputId": "19ba19b1-4e29-4114-f0cb-9eef294dff63"
      },
      "outputs": [
        {
          "data": {
            "text/plain": [
              "['a',\n",
              " 'ate',\n",
              " 'banana',\n",
              " 'bought',\n",
              " 'carries',\n",
              " 'carry',\n",
              " 'eat',\n",
              " 'eats',\n",
              " 'he',\n",
              " 'i',\n",
              " 'orange',\n",
              " 'pear',\n",
              " 'she',\n",
              " 'they',\n",
              " 'we']"
            ]
          },
          "execution_count": 12,
          "metadata": {},
          "output_type": "execute_result"
        }
      ],
      "source": [
        "vocab"
      ]
    },
    {
      "cell_type": "code",
      "execution_count": null,
      "metadata": {
        "id": "yH1jb_5eF9h3"
      },
      "outputs": [],
      "source": [
        "# Let's get the size of our vocab\n",
        "vocab_size = len(vocab)"
      ]
    },
    {
      "cell_type": "markdown",
      "metadata": {
        "id": "0pTviaFsF9h3"
      },
      "source": [
        "And now we will initialize a matrix of co-ocurrences that will have the number of times words co-ocurr in a specific \"window size\". Exemplifying if we only had one sentence:"
      ]
    },
    {
      "cell_type": "markdown",
      "metadata": {
        "id": "zpsh5b42F9h3"
      },
      "source": [
        "With the sentence `\"I went to the market and bought oranges.\"` we would have the following co-occurence matrix:"
      ]
    },
    {
      "cell_type": "markdown",
      "metadata": {
        "id": "CgCsyaEVF9h4"
      },
      "source": [
        "|index | and        | bought | I       | market        | oranges     | the | to | went |\n",
        "|:---|------------:|--------:|---------:|---------------:|-------------:|-----:|----:|------:|\n",
        "| and  | 0          | 1      |  0       |  1             |     0        | 0    | 0   |  0 |\n",
        "| bought  | 1          | 0      |   0      |       0        |    1         |  0   | 0   | 0  |\n",
        "| I  | 0          | 0      |   0      |        0       |      0       |  0   |  0  | 1  |\n",
        "| market  | 1          | 0      |    0     |      0         |   0          |  1   |  0  | 0  |\n",
        "| oranges  | 0          | 1      |   0      |     0          |      0       | 0    | 0   | 0  |\n",
        "| the  | 0          | 0      |    0     |       1        |     0        |  0   | 1   | 0  |\n",
        "| to  | 0          | 0      |  0       |      0         |      0       |  1   | 0   | 1  |\n",
        "| went  | 0          | 0      |    1     |   0            |     0        | 0    | 1   |  0 |"
      ]
    },
    {
      "cell_type": "markdown",
      "metadata": {
        "id": "ZQF8XellF9h4"
      },
      "source": [
        "Notice, as an example that the word **market** has 1's on the word **and** and **the** because these are the words that surround this word on our sentence - if we have more sentences we can keep incrementing this matrix with more and more words.\n",
        "<br>\n",
        "<br>\n",
        "Let's implement this!"
      ]
    },
    {
      "cell_type": "code",
      "execution_count": null,
      "metadata": {
        "id": "gKm2dhMBF9h4"
      },
      "outputs": [],
      "source": [
        "# We start with our empty arrays\n",
        "word_co_ocurrences = np.zeros([vocab_size,vocab_size])"
      ]
    },
    {
      "cell_type": "code",
      "execution_count": null,
      "metadata": {
        "id": "YW6kSel_F9h4",
        "outputId": "5dcbf41d-bc5b-4610-b525-4ce89b5558a5"
      },
      "outputs": [
        {
          "data": {
            "text/plain": [
              "array([[0., 0., 0., 0., 0., 0., 0., 0., 0., 0., 0., 0., 0., 0., 0.],\n",
              "       [0., 0., 0., 0., 0., 0., 0., 0., 0., 0., 0., 0., 0., 0., 0.],\n",
              "       [0., 0., 0., 0., 0., 0., 0., 0., 0., 0., 0., 0., 0., 0., 0.],\n",
              "       [0., 0., 0., 0., 0., 0., 0., 0., 0., 0., 0., 0., 0., 0., 0.],\n",
              "       [0., 0., 0., 0., 0., 0., 0., 0., 0., 0., 0., 0., 0., 0., 0.],\n",
              "       [0., 0., 0., 0., 0., 0., 0., 0., 0., 0., 0., 0., 0., 0., 0.],\n",
              "       [0., 0., 0., 0., 0., 0., 0., 0., 0., 0., 0., 0., 0., 0., 0.],\n",
              "       [0., 0., 0., 0., 0., 0., 0., 0., 0., 0., 0., 0., 0., 0., 0.],\n",
              "       [0., 0., 0., 0., 0., 0., 0., 0., 0., 0., 0., 0., 0., 0., 0.],\n",
              "       [0., 0., 0., 0., 0., 0., 0., 0., 0., 0., 0., 0., 0., 0., 0.],\n",
              "       [0., 0., 0., 0., 0., 0., 0., 0., 0., 0., 0., 0., 0., 0., 0.],\n",
              "       [0., 0., 0., 0., 0., 0., 0., 0., 0., 0., 0., 0., 0., 0., 0.],\n",
              "       [0., 0., 0., 0., 0., 0., 0., 0., 0., 0., 0., 0., 0., 0., 0.],\n",
              "       [0., 0., 0., 0., 0., 0., 0., 0., 0., 0., 0., 0., 0., 0., 0.],\n",
              "       [0., 0., 0., 0., 0., 0., 0., 0., 0., 0., 0., 0., 0., 0., 0.]])"
            ]
          },
          "execution_count": 15,
          "metadata": {},
          "output_type": "execute_result"
        }
      ],
      "source": [
        "word_co_ocurrences"
      ]
    },
    {
      "cell_type": "code",
      "execution_count": null,
      "metadata": {
        "scrolled": true,
        "id": "136uEa-AF9h4",
        "outputId": "64808baa-3614-4648-c0f8-ea5c33d01f7d"
      },
      "outputs": [
        {
          "name": "stdout",
          "output_type": "stream",
          "text": [
            "a\n",
            "ate\n",
            "banana\n",
            "bought\n",
            "carries\n",
            "carry\n",
            "eat\n",
            "eats\n",
            "he\n",
            "i\n",
            "orange\n",
            "pear\n",
            "she\n",
            "they\n",
            "we\n"
          ]
        }
      ],
      "source": [
        "for word in vocab:\n",
        "    print(word)"
      ]
    },
    {
      "cell_type": "markdown",
      "metadata": {
        "id": "Kdyh7t6WF9h4"
      },
      "source": [
        "Disclaimer: Below we can see a non-optimized implementation that uses too many nested loops. We will just implement it in this way because we have few sentences and it is easier for us to wrap our head around the concept of `word context`."
      ]
    },
    {
      "cell_type": "code",
      "execution_count": null,
      "metadata": {
        "id": "RvXHid7FF9h4"
      },
      "outputs": [],
      "source": [
        "# Let's define our word window\n",
        "neighbors = 1\n",
        "\n",
        "# We will do this really slowly - these will be a bit\n",
        "# nested loops but take your time in understanding\n",
        "# where we're at in every loop\n",
        "\n",
        "# First we start to iterate through our unique words\n",
        "# Imagine that we are going through our indexes\n",
        "for i, word in enumerate(vocab):\n",
        "    # Iterate over each word in the vocabulary\n",
        "    for j, pair_word in enumerate(vocab):\n",
        "        # Iterate over each pair word in the vocabulary\n",
        "        for position, sent in enumerate(tokenized_sentences):\n",
        "            # Iterate over each sentence in the tokenized sentences\n",
        "            for word_index, word_sent in enumerate(sent):\n",
        "                # Iterate over each word in the sentence\n",
        "                if word == word_sent:\n",
        "\n",
        "                    first_position = max(word_index - neighbors, 0)\n",
        "                    # Determine the starting position of the neighbors,\n",
        "                    # making sure it doesn't go below 0\n",
        "\n",
        "                    last_position = min(word_index + neighbors + 1, len(sent))\n",
        "                    # Determine the ending position of the neighbors,\n",
        "                    # making sure it doesn't exceed the sentence length\n",
        "\n",
        "                    for neighbor in sent[first_position:last_position]:\n",
        "                        # Iterate over the neighbors of the word in the sentence\n",
        "                        if neighbor == pair_word:\n",
        "                            # Check if the neighbor matches the pair word\n",
        "                            word_co_ocurrences[i, j] += 1\n",
        "                            # Increment the co-occurrence count for the word pair"
      ]
    },
    {
      "cell_type": "markdown",
      "metadata": {
        "id": "yPUqCGRwF9h4"
      },
      "source": [
        "Let's see this in a data frame format:"
      ]
    },
    {
      "cell_type": "code",
      "execution_count": null,
      "metadata": {
        "id": "D2A_6XchF9h5"
      },
      "outputs": [],
      "source": [
        "word_co_occurences = pd.DataFrame(word_co_ocurrences, index=vocab, columns = vocab)"
      ]
    },
    {
      "cell_type": "code",
      "execution_count": null,
      "metadata": {
        "scrolled": true,
        "id": "_0l866bnF9h5",
        "outputId": "a39b2349-8a9b-46a3-b9e0-d6bf9f1ea3d3"
      },
      "outputs": [
        {
          "data": {
            "text/html": [
              "<div>\n",
              "<style scoped>\n",
              "    .dataframe tbody tr th:only-of-type {\n",
              "        vertical-align: middle;\n",
              "    }\n",
              "\n",
              "    .dataframe tbody tr th {\n",
              "        vertical-align: top;\n",
              "    }\n",
              "\n",
              "    .dataframe thead th {\n",
              "        text-align: right;\n",
              "    }\n",
              "</style>\n",
              "<table border=\"1\" class=\"dataframe\">\n",
              "  <thead>\n",
              "    <tr style=\"text-align: right;\">\n",
              "      <th></th>\n",
              "      <th>a</th>\n",
              "      <th>ate</th>\n",
              "      <th>banana</th>\n",
              "      <th>bought</th>\n",
              "      <th>carries</th>\n",
              "      <th>carry</th>\n",
              "      <th>eat</th>\n",
              "      <th>eats</th>\n",
              "      <th>he</th>\n",
              "      <th>i</th>\n",
              "      <th>orange</th>\n",
              "      <th>pear</th>\n",
              "      <th>she</th>\n",
              "      <th>they</th>\n",
              "      <th>we</th>\n",
              "    </tr>\n",
              "  </thead>\n",
              "  <tbody>\n",
              "    <tr>\n",
              "      <th>a</th>\n",
              "      <td>19.0</td>\n",
              "      <td>7.0</td>\n",
              "      <td>9.0</td>\n",
              "      <td>4.0</td>\n",
              "      <td>2.0</td>\n",
              "      <td>4.0</td>\n",
              "      <td>1.0</td>\n",
              "      <td>1.0</td>\n",
              "      <td>0.0</td>\n",
              "      <td>0.0</td>\n",
              "      <td>3.0</td>\n",
              "      <td>7.0</td>\n",
              "      <td>0.0</td>\n",
              "      <td>0.0</td>\n",
              "      <td>0.0</td>\n",
              "    </tr>\n",
              "    <tr>\n",
              "      <th>ate</th>\n",
              "      <td>7.0</td>\n",
              "      <td>7.0</td>\n",
              "      <td>0.0</td>\n",
              "      <td>0.0</td>\n",
              "      <td>0.0</td>\n",
              "      <td>0.0</td>\n",
              "      <td>0.0</td>\n",
              "      <td>0.0</td>\n",
              "      <td>1.0</td>\n",
              "      <td>2.0</td>\n",
              "      <td>0.0</td>\n",
              "      <td>0.0</td>\n",
              "      <td>2.0</td>\n",
              "      <td>2.0</td>\n",
              "      <td>0.0</td>\n",
              "    </tr>\n",
              "    <tr>\n",
              "      <th>banana</th>\n",
              "      <td>9.0</td>\n",
              "      <td>0.0</td>\n",
              "      <td>9.0</td>\n",
              "      <td>0.0</td>\n",
              "      <td>0.0</td>\n",
              "      <td>0.0</td>\n",
              "      <td>0.0</td>\n",
              "      <td>0.0</td>\n",
              "      <td>0.0</td>\n",
              "      <td>0.0</td>\n",
              "      <td>0.0</td>\n",
              "      <td>0.0</td>\n",
              "      <td>0.0</td>\n",
              "      <td>0.0</td>\n",
              "      <td>0.0</td>\n",
              "    </tr>\n",
              "    <tr>\n",
              "      <th>bought</th>\n",
              "      <td>4.0</td>\n",
              "      <td>0.0</td>\n",
              "      <td>0.0</td>\n",
              "      <td>4.0</td>\n",
              "      <td>0.0</td>\n",
              "      <td>0.0</td>\n",
              "      <td>0.0</td>\n",
              "      <td>0.0</td>\n",
              "      <td>1.0</td>\n",
              "      <td>1.0</td>\n",
              "      <td>0.0</td>\n",
              "      <td>0.0</td>\n",
              "      <td>0.0</td>\n",
              "      <td>0.0</td>\n",
              "      <td>2.0</td>\n",
              "    </tr>\n",
              "    <tr>\n",
              "      <th>carries</th>\n",
              "      <td>2.0</td>\n",
              "      <td>0.0</td>\n",
              "      <td>0.0</td>\n",
              "      <td>0.0</td>\n",
              "      <td>2.0</td>\n",
              "      <td>0.0</td>\n",
              "      <td>0.0</td>\n",
              "      <td>0.0</td>\n",
              "      <td>2.0</td>\n",
              "      <td>0.0</td>\n",
              "      <td>0.0</td>\n",
              "      <td>0.0</td>\n",
              "      <td>0.0</td>\n",
              "      <td>0.0</td>\n",
              "      <td>0.0</td>\n",
              "    </tr>\n",
              "    <tr>\n",
              "      <th>carry</th>\n",
              "      <td>4.0</td>\n",
              "      <td>0.0</td>\n",
              "      <td>0.0</td>\n",
              "      <td>0.0</td>\n",
              "      <td>0.0</td>\n",
              "      <td>4.0</td>\n",
              "      <td>0.0</td>\n",
              "      <td>0.0</td>\n",
              "      <td>0.0</td>\n",
              "      <td>1.0</td>\n",
              "      <td>0.0</td>\n",
              "      <td>0.0</td>\n",
              "      <td>0.0</td>\n",
              "      <td>3.0</td>\n",
              "      <td>0.0</td>\n",
              "    </tr>\n",
              "    <tr>\n",
              "      <th>eat</th>\n",
              "      <td>1.0</td>\n",
              "      <td>0.0</td>\n",
              "      <td>0.0</td>\n",
              "      <td>0.0</td>\n",
              "      <td>0.0</td>\n",
              "      <td>0.0</td>\n",
              "      <td>1.0</td>\n",
              "      <td>0.0</td>\n",
              "      <td>0.0</td>\n",
              "      <td>1.0</td>\n",
              "      <td>0.0</td>\n",
              "      <td>0.0</td>\n",
              "      <td>0.0</td>\n",
              "      <td>0.0</td>\n",
              "      <td>0.0</td>\n",
              "    </tr>\n",
              "    <tr>\n",
              "      <th>eats</th>\n",
              "      <td>1.0</td>\n",
              "      <td>0.0</td>\n",
              "      <td>0.0</td>\n",
              "      <td>0.0</td>\n",
              "      <td>0.0</td>\n",
              "      <td>0.0</td>\n",
              "      <td>0.0</td>\n",
              "      <td>1.0</td>\n",
              "      <td>0.0</td>\n",
              "      <td>0.0</td>\n",
              "      <td>0.0</td>\n",
              "      <td>0.0</td>\n",
              "      <td>1.0</td>\n",
              "      <td>0.0</td>\n",
              "      <td>0.0</td>\n",
              "    </tr>\n",
              "    <tr>\n",
              "      <th>he</th>\n",
              "      <td>0.0</td>\n",
              "      <td>1.0</td>\n",
              "      <td>0.0</td>\n",
              "      <td>1.0</td>\n",
              "      <td>2.0</td>\n",
              "      <td>0.0</td>\n",
              "      <td>0.0</td>\n",
              "      <td>0.0</td>\n",
              "      <td>4.0</td>\n",
              "      <td>0.0</td>\n",
              "      <td>0.0</td>\n",
              "      <td>0.0</td>\n",
              "      <td>0.0</td>\n",
              "      <td>0.0</td>\n",
              "      <td>0.0</td>\n",
              "    </tr>\n",
              "    <tr>\n",
              "      <th>i</th>\n",
              "      <td>0.0</td>\n",
              "      <td>2.0</td>\n",
              "      <td>0.0</td>\n",
              "      <td>1.0</td>\n",
              "      <td>0.0</td>\n",
              "      <td>1.0</td>\n",
              "      <td>1.0</td>\n",
              "      <td>0.0</td>\n",
              "      <td>0.0</td>\n",
              "      <td>5.0</td>\n",
              "      <td>0.0</td>\n",
              "      <td>0.0</td>\n",
              "      <td>0.0</td>\n",
              "      <td>0.0</td>\n",
              "      <td>0.0</td>\n",
              "    </tr>\n",
              "    <tr>\n",
              "      <th>orange</th>\n",
              "      <td>3.0</td>\n",
              "      <td>0.0</td>\n",
              "      <td>0.0</td>\n",
              "      <td>0.0</td>\n",
              "      <td>0.0</td>\n",
              "      <td>0.0</td>\n",
              "      <td>0.0</td>\n",
              "      <td>0.0</td>\n",
              "      <td>0.0</td>\n",
              "      <td>0.0</td>\n",
              "      <td>3.0</td>\n",
              "      <td>0.0</td>\n",
              "      <td>0.0</td>\n",
              "      <td>0.0</td>\n",
              "      <td>0.0</td>\n",
              "    </tr>\n",
              "    <tr>\n",
              "      <th>pear</th>\n",
              "      <td>7.0</td>\n",
              "      <td>0.0</td>\n",
              "      <td>0.0</td>\n",
              "      <td>0.0</td>\n",
              "      <td>0.0</td>\n",
              "      <td>0.0</td>\n",
              "      <td>0.0</td>\n",
              "      <td>0.0</td>\n",
              "      <td>0.0</td>\n",
              "      <td>0.0</td>\n",
              "      <td>0.0</td>\n",
              "      <td>7.0</td>\n",
              "      <td>0.0</td>\n",
              "      <td>0.0</td>\n",
              "      <td>0.0</td>\n",
              "    </tr>\n",
              "    <tr>\n",
              "      <th>she</th>\n",
              "      <td>0.0</td>\n",
              "      <td>2.0</td>\n",
              "      <td>0.0</td>\n",
              "      <td>0.0</td>\n",
              "      <td>0.0</td>\n",
              "      <td>0.0</td>\n",
              "      <td>0.0</td>\n",
              "      <td>1.0</td>\n",
              "      <td>0.0</td>\n",
              "      <td>0.0</td>\n",
              "      <td>0.0</td>\n",
              "      <td>0.0</td>\n",
              "      <td>3.0</td>\n",
              "      <td>0.0</td>\n",
              "      <td>0.0</td>\n",
              "    </tr>\n",
              "    <tr>\n",
              "      <th>they</th>\n",
              "      <td>0.0</td>\n",
              "      <td>2.0</td>\n",
              "      <td>0.0</td>\n",
              "      <td>0.0</td>\n",
              "      <td>0.0</td>\n",
              "      <td>3.0</td>\n",
              "      <td>0.0</td>\n",
              "      <td>0.0</td>\n",
              "      <td>0.0</td>\n",
              "      <td>0.0</td>\n",
              "      <td>0.0</td>\n",
              "      <td>0.0</td>\n",
              "      <td>0.0</td>\n",
              "      <td>5.0</td>\n",
              "      <td>0.0</td>\n",
              "    </tr>\n",
              "    <tr>\n",
              "      <th>we</th>\n",
              "      <td>0.0</td>\n",
              "      <td>0.0</td>\n",
              "      <td>0.0</td>\n",
              "      <td>2.0</td>\n",
              "      <td>0.0</td>\n",
              "      <td>0.0</td>\n",
              "      <td>0.0</td>\n",
              "      <td>0.0</td>\n",
              "      <td>0.0</td>\n",
              "      <td>0.0</td>\n",
              "      <td>0.0</td>\n",
              "      <td>0.0</td>\n",
              "      <td>0.0</td>\n",
              "      <td>0.0</td>\n",
              "      <td>2.0</td>\n",
              "    </tr>\n",
              "  </tbody>\n",
              "</table>\n",
              "</div>"
            ],
            "text/plain": [
              "            a  ate  banana  bought  carries  carry  eat  eats   he    i  \\\n",
              "a        19.0  7.0     9.0     4.0      2.0    4.0  1.0   1.0  0.0  0.0   \n",
              "ate       7.0  7.0     0.0     0.0      0.0    0.0  0.0   0.0  1.0  2.0   \n",
              "banana    9.0  0.0     9.0     0.0      0.0    0.0  0.0   0.0  0.0  0.0   \n",
              "bought    4.0  0.0     0.0     4.0      0.0    0.0  0.0   0.0  1.0  1.0   \n",
              "carries   2.0  0.0     0.0     0.0      2.0    0.0  0.0   0.0  2.0  0.0   \n",
              "carry     4.0  0.0     0.0     0.0      0.0    4.0  0.0   0.0  0.0  1.0   \n",
              "eat       1.0  0.0     0.0     0.0      0.0    0.0  1.0   0.0  0.0  1.0   \n",
              "eats      1.0  0.0     0.0     0.0      0.0    0.0  0.0   1.0  0.0  0.0   \n",
              "he        0.0  1.0     0.0     1.0      2.0    0.0  0.0   0.0  4.0  0.0   \n",
              "i         0.0  2.0     0.0     1.0      0.0    1.0  1.0   0.0  0.0  5.0   \n",
              "orange    3.0  0.0     0.0     0.0      0.0    0.0  0.0   0.0  0.0  0.0   \n",
              "pear      7.0  0.0     0.0     0.0      0.0    0.0  0.0   0.0  0.0  0.0   \n",
              "she       0.0  2.0     0.0     0.0      0.0    0.0  0.0   1.0  0.0  0.0   \n",
              "they      0.0  2.0     0.0     0.0      0.0    3.0  0.0   0.0  0.0  0.0   \n",
              "we        0.0  0.0     0.0     2.0      0.0    0.0  0.0   0.0  0.0  0.0   \n",
              "\n",
              "         orange  pear  she  they   we  \n",
              "a           3.0   7.0  0.0   0.0  0.0  \n",
              "ate         0.0   0.0  2.0   2.0  0.0  \n",
              "banana      0.0   0.0  0.0   0.0  0.0  \n",
              "bought      0.0   0.0  0.0   0.0  2.0  \n",
              "carries     0.0   0.0  0.0   0.0  0.0  \n",
              "carry       0.0   0.0  0.0   3.0  0.0  \n",
              "eat         0.0   0.0  0.0   0.0  0.0  \n",
              "eats        0.0   0.0  1.0   0.0  0.0  \n",
              "he          0.0   0.0  0.0   0.0  0.0  \n",
              "i           0.0   0.0  0.0   0.0  0.0  \n",
              "orange      3.0   0.0  0.0   0.0  0.0  \n",
              "pear        0.0   7.0  0.0   0.0  0.0  \n",
              "she         0.0   0.0  3.0   0.0  0.0  \n",
              "they        0.0   0.0  0.0   5.0  0.0  \n",
              "we          0.0   0.0  0.0   0.0  2.0  "
            ]
          },
          "execution_count": 19,
          "metadata": {},
          "output_type": "execute_result"
        }
      ],
      "source": [
        "word_co_occurences"
      ]
    },
    {
      "cell_type": "markdown",
      "metadata": {
        "id": "-IaWB58-F9h5"
      },
      "source": [
        "Obviously, we need to correct something, namely zeroing the main diagonal as words are not co-occuring with themselves:"
      ]
    },
    {
      "cell_type": "code",
      "execution_count": null,
      "metadata": {
        "id": "CFPsWK2PF9h5"
      },
      "outputs": [],
      "source": [
        "for i in range(0,len(word_co_occurences)):\n",
        "    word_co_occurences.iloc[i, i] = 0"
      ]
    },
    {
      "cell_type": "code",
      "execution_count": null,
      "metadata": {
        "scrolled": true,
        "id": "XwGbjif0F9h5",
        "outputId": "266abea1-b039-4abe-813d-6fa3c2dbe3ab"
      },
      "outputs": [
        {
          "data": {
            "text/html": [
              "<div>\n",
              "<style scoped>\n",
              "    .dataframe tbody tr th:only-of-type {\n",
              "        vertical-align: middle;\n",
              "    }\n",
              "\n",
              "    .dataframe tbody tr th {\n",
              "        vertical-align: top;\n",
              "    }\n",
              "\n",
              "    .dataframe thead th {\n",
              "        text-align: right;\n",
              "    }\n",
              "</style>\n",
              "<table border=\"1\" class=\"dataframe\">\n",
              "  <thead>\n",
              "    <tr style=\"text-align: right;\">\n",
              "      <th></th>\n",
              "      <th>a</th>\n",
              "      <th>ate</th>\n",
              "      <th>banana</th>\n",
              "      <th>bought</th>\n",
              "      <th>carries</th>\n",
              "      <th>carry</th>\n",
              "      <th>eat</th>\n",
              "      <th>eats</th>\n",
              "      <th>he</th>\n",
              "      <th>i</th>\n",
              "      <th>orange</th>\n",
              "      <th>pear</th>\n",
              "      <th>she</th>\n",
              "      <th>they</th>\n",
              "      <th>we</th>\n",
              "    </tr>\n",
              "  </thead>\n",
              "  <tbody>\n",
              "    <tr>\n",
              "      <th>a</th>\n",
              "      <td>0.0</td>\n",
              "      <td>7.0</td>\n",
              "      <td>9.0</td>\n",
              "      <td>4.0</td>\n",
              "      <td>2.0</td>\n",
              "      <td>4.0</td>\n",
              "      <td>1.0</td>\n",
              "      <td>1.0</td>\n",
              "      <td>0.0</td>\n",
              "      <td>0.0</td>\n",
              "      <td>3.0</td>\n",
              "      <td>7.0</td>\n",
              "      <td>0.0</td>\n",
              "      <td>0.0</td>\n",
              "      <td>0.0</td>\n",
              "    </tr>\n",
              "    <tr>\n",
              "      <th>ate</th>\n",
              "      <td>7.0</td>\n",
              "      <td>0.0</td>\n",
              "      <td>0.0</td>\n",
              "      <td>0.0</td>\n",
              "      <td>0.0</td>\n",
              "      <td>0.0</td>\n",
              "      <td>0.0</td>\n",
              "      <td>0.0</td>\n",
              "      <td>1.0</td>\n",
              "      <td>2.0</td>\n",
              "      <td>0.0</td>\n",
              "      <td>0.0</td>\n",
              "      <td>2.0</td>\n",
              "      <td>2.0</td>\n",
              "      <td>0.0</td>\n",
              "    </tr>\n",
              "    <tr>\n",
              "      <th>banana</th>\n",
              "      <td>9.0</td>\n",
              "      <td>0.0</td>\n",
              "      <td>0.0</td>\n",
              "      <td>0.0</td>\n",
              "      <td>0.0</td>\n",
              "      <td>0.0</td>\n",
              "      <td>0.0</td>\n",
              "      <td>0.0</td>\n",
              "      <td>0.0</td>\n",
              "      <td>0.0</td>\n",
              "      <td>0.0</td>\n",
              "      <td>0.0</td>\n",
              "      <td>0.0</td>\n",
              "      <td>0.0</td>\n",
              "      <td>0.0</td>\n",
              "    </tr>\n",
              "    <tr>\n",
              "      <th>bought</th>\n",
              "      <td>4.0</td>\n",
              "      <td>0.0</td>\n",
              "      <td>0.0</td>\n",
              "      <td>0.0</td>\n",
              "      <td>0.0</td>\n",
              "      <td>0.0</td>\n",
              "      <td>0.0</td>\n",
              "      <td>0.0</td>\n",
              "      <td>1.0</td>\n",
              "      <td>1.0</td>\n",
              "      <td>0.0</td>\n",
              "      <td>0.0</td>\n",
              "      <td>0.0</td>\n",
              "      <td>0.0</td>\n",
              "      <td>2.0</td>\n",
              "    </tr>\n",
              "    <tr>\n",
              "      <th>carries</th>\n",
              "      <td>2.0</td>\n",
              "      <td>0.0</td>\n",
              "      <td>0.0</td>\n",
              "      <td>0.0</td>\n",
              "      <td>0.0</td>\n",
              "      <td>0.0</td>\n",
              "      <td>0.0</td>\n",
              "      <td>0.0</td>\n",
              "      <td>2.0</td>\n",
              "      <td>0.0</td>\n",
              "      <td>0.0</td>\n",
              "      <td>0.0</td>\n",
              "      <td>0.0</td>\n",
              "      <td>0.0</td>\n",
              "      <td>0.0</td>\n",
              "    </tr>\n",
              "    <tr>\n",
              "      <th>carry</th>\n",
              "      <td>4.0</td>\n",
              "      <td>0.0</td>\n",
              "      <td>0.0</td>\n",
              "      <td>0.0</td>\n",
              "      <td>0.0</td>\n",
              "      <td>0.0</td>\n",
              "      <td>0.0</td>\n",
              "      <td>0.0</td>\n",
              "      <td>0.0</td>\n",
              "      <td>1.0</td>\n",
              "      <td>0.0</td>\n",
              "      <td>0.0</td>\n",
              "      <td>0.0</td>\n",
              "      <td>3.0</td>\n",
              "      <td>0.0</td>\n",
              "    </tr>\n",
              "    <tr>\n",
              "      <th>eat</th>\n",
              "      <td>1.0</td>\n",
              "      <td>0.0</td>\n",
              "      <td>0.0</td>\n",
              "      <td>0.0</td>\n",
              "      <td>0.0</td>\n",
              "      <td>0.0</td>\n",
              "      <td>0.0</td>\n",
              "      <td>0.0</td>\n",
              "      <td>0.0</td>\n",
              "      <td>1.0</td>\n",
              "      <td>0.0</td>\n",
              "      <td>0.0</td>\n",
              "      <td>0.0</td>\n",
              "      <td>0.0</td>\n",
              "      <td>0.0</td>\n",
              "    </tr>\n",
              "    <tr>\n",
              "      <th>eats</th>\n",
              "      <td>1.0</td>\n",
              "      <td>0.0</td>\n",
              "      <td>0.0</td>\n",
              "      <td>0.0</td>\n",
              "      <td>0.0</td>\n",
              "      <td>0.0</td>\n",
              "      <td>0.0</td>\n",
              "      <td>0.0</td>\n",
              "      <td>0.0</td>\n",
              "      <td>0.0</td>\n",
              "      <td>0.0</td>\n",
              "      <td>0.0</td>\n",
              "      <td>1.0</td>\n",
              "      <td>0.0</td>\n",
              "      <td>0.0</td>\n",
              "    </tr>\n",
              "    <tr>\n",
              "      <th>he</th>\n",
              "      <td>0.0</td>\n",
              "      <td>1.0</td>\n",
              "      <td>0.0</td>\n",
              "      <td>1.0</td>\n",
              "      <td>2.0</td>\n",
              "      <td>0.0</td>\n",
              "      <td>0.0</td>\n",
              "      <td>0.0</td>\n",
              "      <td>0.0</td>\n",
              "      <td>0.0</td>\n",
              "      <td>0.0</td>\n",
              "      <td>0.0</td>\n",
              "      <td>0.0</td>\n",
              "      <td>0.0</td>\n",
              "      <td>0.0</td>\n",
              "    </tr>\n",
              "    <tr>\n",
              "      <th>i</th>\n",
              "      <td>0.0</td>\n",
              "      <td>2.0</td>\n",
              "      <td>0.0</td>\n",
              "      <td>1.0</td>\n",
              "      <td>0.0</td>\n",
              "      <td>1.0</td>\n",
              "      <td>1.0</td>\n",
              "      <td>0.0</td>\n",
              "      <td>0.0</td>\n",
              "      <td>0.0</td>\n",
              "      <td>0.0</td>\n",
              "      <td>0.0</td>\n",
              "      <td>0.0</td>\n",
              "      <td>0.0</td>\n",
              "      <td>0.0</td>\n",
              "    </tr>\n",
              "    <tr>\n",
              "      <th>orange</th>\n",
              "      <td>3.0</td>\n",
              "      <td>0.0</td>\n",
              "      <td>0.0</td>\n",
              "      <td>0.0</td>\n",
              "      <td>0.0</td>\n",
              "      <td>0.0</td>\n",
              "      <td>0.0</td>\n",
              "      <td>0.0</td>\n",
              "      <td>0.0</td>\n",
              "      <td>0.0</td>\n",
              "      <td>0.0</td>\n",
              "      <td>0.0</td>\n",
              "      <td>0.0</td>\n",
              "      <td>0.0</td>\n",
              "      <td>0.0</td>\n",
              "    </tr>\n",
              "    <tr>\n",
              "      <th>pear</th>\n",
              "      <td>7.0</td>\n",
              "      <td>0.0</td>\n",
              "      <td>0.0</td>\n",
              "      <td>0.0</td>\n",
              "      <td>0.0</td>\n",
              "      <td>0.0</td>\n",
              "      <td>0.0</td>\n",
              "      <td>0.0</td>\n",
              "      <td>0.0</td>\n",
              "      <td>0.0</td>\n",
              "      <td>0.0</td>\n",
              "      <td>0.0</td>\n",
              "      <td>0.0</td>\n",
              "      <td>0.0</td>\n",
              "      <td>0.0</td>\n",
              "    </tr>\n",
              "    <tr>\n",
              "      <th>she</th>\n",
              "      <td>0.0</td>\n",
              "      <td>2.0</td>\n",
              "      <td>0.0</td>\n",
              "      <td>0.0</td>\n",
              "      <td>0.0</td>\n",
              "      <td>0.0</td>\n",
              "      <td>0.0</td>\n",
              "      <td>1.0</td>\n",
              "      <td>0.0</td>\n",
              "      <td>0.0</td>\n",
              "      <td>0.0</td>\n",
              "      <td>0.0</td>\n",
              "      <td>0.0</td>\n",
              "      <td>0.0</td>\n",
              "      <td>0.0</td>\n",
              "    </tr>\n",
              "    <tr>\n",
              "      <th>they</th>\n",
              "      <td>0.0</td>\n",
              "      <td>2.0</td>\n",
              "      <td>0.0</td>\n",
              "      <td>0.0</td>\n",
              "      <td>0.0</td>\n",
              "      <td>3.0</td>\n",
              "      <td>0.0</td>\n",
              "      <td>0.0</td>\n",
              "      <td>0.0</td>\n",
              "      <td>0.0</td>\n",
              "      <td>0.0</td>\n",
              "      <td>0.0</td>\n",
              "      <td>0.0</td>\n",
              "      <td>0.0</td>\n",
              "      <td>0.0</td>\n",
              "    </tr>\n",
              "    <tr>\n",
              "      <th>we</th>\n",
              "      <td>0.0</td>\n",
              "      <td>0.0</td>\n",
              "      <td>0.0</td>\n",
              "      <td>2.0</td>\n",
              "      <td>0.0</td>\n",
              "      <td>0.0</td>\n",
              "      <td>0.0</td>\n",
              "      <td>0.0</td>\n",
              "      <td>0.0</td>\n",
              "      <td>0.0</td>\n",
              "      <td>0.0</td>\n",
              "      <td>0.0</td>\n",
              "      <td>0.0</td>\n",
              "      <td>0.0</td>\n",
              "      <td>0.0</td>\n",
              "    </tr>\n",
              "  </tbody>\n",
              "</table>\n",
              "</div>"
            ],
            "text/plain": [
              "           a  ate  banana  bought  carries  carry  eat  eats   he    i  \\\n",
              "a        0.0  7.0     9.0     4.0      2.0    4.0  1.0   1.0  0.0  0.0   \n",
              "ate      7.0  0.0     0.0     0.0      0.0    0.0  0.0   0.0  1.0  2.0   \n",
              "banana   9.0  0.0     0.0     0.0      0.0    0.0  0.0   0.0  0.0  0.0   \n",
              "bought   4.0  0.0     0.0     0.0      0.0    0.0  0.0   0.0  1.0  1.0   \n",
              "carries  2.0  0.0     0.0     0.0      0.0    0.0  0.0   0.0  2.0  0.0   \n",
              "carry    4.0  0.0     0.0     0.0      0.0    0.0  0.0   0.0  0.0  1.0   \n",
              "eat      1.0  0.0     0.0     0.0      0.0    0.0  0.0   0.0  0.0  1.0   \n",
              "eats     1.0  0.0     0.0     0.0      0.0    0.0  0.0   0.0  0.0  0.0   \n",
              "he       0.0  1.0     0.0     1.0      2.0    0.0  0.0   0.0  0.0  0.0   \n",
              "i        0.0  2.0     0.0     1.0      0.0    1.0  1.0   0.0  0.0  0.0   \n",
              "orange   3.0  0.0     0.0     0.0      0.0    0.0  0.0   0.0  0.0  0.0   \n",
              "pear     7.0  0.0     0.0     0.0      0.0    0.0  0.0   0.0  0.0  0.0   \n",
              "she      0.0  2.0     0.0     0.0      0.0    0.0  0.0   1.0  0.0  0.0   \n",
              "they     0.0  2.0     0.0     0.0      0.0    3.0  0.0   0.0  0.0  0.0   \n",
              "we       0.0  0.0     0.0     2.0      0.0    0.0  0.0   0.0  0.0  0.0   \n",
              "\n",
              "         orange  pear  she  they   we  \n",
              "a           3.0   7.0  0.0   0.0  0.0  \n",
              "ate         0.0   0.0  2.0   2.0  0.0  \n",
              "banana      0.0   0.0  0.0   0.0  0.0  \n",
              "bought      0.0   0.0  0.0   0.0  2.0  \n",
              "carries     0.0   0.0  0.0   0.0  0.0  \n",
              "carry       0.0   0.0  0.0   3.0  0.0  \n",
              "eat         0.0   0.0  0.0   0.0  0.0  \n",
              "eats        0.0   0.0  1.0   0.0  0.0  \n",
              "he          0.0   0.0  0.0   0.0  0.0  \n",
              "i           0.0   0.0  0.0   0.0  0.0  \n",
              "orange      0.0   0.0  0.0   0.0  0.0  \n",
              "pear        0.0   0.0  0.0   0.0  0.0  \n",
              "she         0.0   0.0  0.0   0.0  0.0  \n",
              "they        0.0   0.0  0.0   0.0  0.0  \n",
              "we          0.0   0.0  0.0   0.0  0.0  "
            ]
          },
          "execution_count": 21,
          "metadata": {},
          "output_type": "execute_result"
        }
      ],
      "source": [
        "word_co_occurences"
      ]
    },
    {
      "cell_type": "markdown",
      "metadata": {
        "id": "Mis6uhxLF9h5"
      },
      "source": [
        "With these vectors, we can try to approximate the words in a mathematical space. Euclidean distances are known for representing relationships between word vectors poorly and the most commonly used distance is the cosine similarity:"
      ]
    },
    {
      "cell_type": "markdown",
      "metadata": {
        "id": "6ORohZxcF9h5"
      },
      "source": [
        "![2b4a7a82-ad4c-4b2a-b808-e423a334de6f.png](attachment:2b4a7a82-ad4c-4b2a-b808-e423a334de6f.png)"
      ]
    },
    {
      "cell_type": "code",
      "execution_count": null,
      "metadata": {
        "id": "MiUarprDF9h9"
      },
      "outputs": [],
      "source": [
        "similarity = pd.DataFrame(cosine_similarity(word_co_occurences), index=vocab, columns = vocab)"
      ]
    },
    {
      "cell_type": "code",
      "execution_count": null,
      "metadata": {
        "id": "IsWXeMx3F9h-",
        "outputId": "27bee123-c672-4bcb-8971-68a20d921a0d"
      },
      "outputs": [
        {
          "data": {
            "text/html": [
              "<div>\n",
              "<style scoped>\n",
              "    .dataframe tbody tr th:only-of-type {\n",
              "        vertical-align: middle;\n",
              "    }\n",
              "\n",
              "    .dataframe tbody tr th {\n",
              "        vertical-align: top;\n",
              "    }\n",
              "\n",
              "    .dataframe thead th {\n",
              "        text-align: right;\n",
              "    }\n",
              "</style>\n",
              "<table border=\"1\" class=\"dataframe\">\n",
              "  <thead>\n",
              "    <tr style=\"text-align: right;\">\n",
              "      <th></th>\n",
              "      <th>a</th>\n",
              "      <th>ate</th>\n",
              "      <th>banana</th>\n",
              "      <th>bought</th>\n",
              "      <th>carries</th>\n",
              "      <th>carry</th>\n",
              "      <th>eat</th>\n",
              "      <th>eats</th>\n",
              "      <th>he</th>\n",
              "      <th>i</th>\n",
              "      <th>orange</th>\n",
              "      <th>pear</th>\n",
              "      <th>she</th>\n",
              "      <th>they</th>\n",
              "      <th>we</th>\n",
              "    </tr>\n",
              "  </thead>\n",
              "  <tbody>\n",
              "    <tr>\n",
              "      <th>a</th>\n",
              "      <td>1.000000</td>\n",
              "      <td>0.000000</td>\n",
              "      <td>0.000000</td>\n",
              "      <td>0.000000</td>\n",
              "      <td>0.000000</td>\n",
              "      <td>0.000000</td>\n",
              "      <td>0.000000</td>\n",
              "      <td>0.000000</td>\n",
              "      <td>0.407344</td>\n",
              "      <td>0.578262</td>\n",
              "      <td>0.000000</td>\n",
              "      <td>0.000000</td>\n",
              "      <td>0.446223</td>\n",
              "      <td>0.479675</td>\n",
              "      <td>0.266076</td>\n",
              "    </tr>\n",
              "    <tr>\n",
              "      <th>ate</th>\n",
              "      <td>0.000000</td>\n",
              "      <td>1.000000</td>\n",
              "      <td>0.889001</td>\n",
              "      <td>0.839372</td>\n",
              "      <td>0.718421</td>\n",
              "      <td>0.896644</td>\n",
              "      <td>0.808224</td>\n",
              "      <td>0.808224</td>\n",
              "      <td>0.000000</td>\n",
              "      <td>0.000000</td>\n",
              "      <td>0.889001</td>\n",
              "      <td>0.889001</td>\n",
              "      <td>0.000000</td>\n",
              "      <td>0.000000</td>\n",
              "      <td>0.000000</td>\n",
              "    </tr>\n",
              "    <tr>\n",
              "      <th>banana</th>\n",
              "      <td>0.000000</td>\n",
              "      <td>0.889001</td>\n",
              "      <td>1.000000</td>\n",
              "      <td>0.852803</td>\n",
              "      <td>0.707107</td>\n",
              "      <td>0.784465</td>\n",
              "      <td>0.707107</td>\n",
              "      <td>0.707107</td>\n",
              "      <td>0.000000</td>\n",
              "      <td>0.000000</td>\n",
              "      <td>1.000000</td>\n",
              "      <td>1.000000</td>\n",
              "      <td>0.000000</td>\n",
              "      <td>0.000000</td>\n",
              "      <td>0.000000</td>\n",
              "    </tr>\n",
              "    <tr>\n",
              "      <th>bought</th>\n",
              "      <td>0.000000</td>\n",
              "      <td>0.839372</td>\n",
              "      <td>0.852803</td>\n",
              "      <td>1.000000</td>\n",
              "      <td>0.753778</td>\n",
              "      <td>0.710806</td>\n",
              "      <td>0.753778</td>\n",
              "      <td>0.603023</td>\n",
              "      <td>0.000000</td>\n",
              "      <td>0.000000</td>\n",
              "      <td>0.852803</td>\n",
              "      <td>0.852803</td>\n",
              "      <td>0.000000</td>\n",
              "      <td>0.000000</td>\n",
              "      <td>0.000000</td>\n",
              "    </tr>\n",
              "    <tr>\n",
              "      <th>carries</th>\n",
              "      <td>0.000000</td>\n",
              "      <td>0.718421</td>\n",
              "      <td>0.707107</td>\n",
              "      <td>0.753778</td>\n",
              "      <td>1.000000</td>\n",
              "      <td>0.554700</td>\n",
              "      <td>0.500000</td>\n",
              "      <td>0.500000</td>\n",
              "      <td>0.000000</td>\n",
              "      <td>0.000000</td>\n",
              "      <td>0.707107</td>\n",
              "      <td>0.707107</td>\n",
              "      <td>0.000000</td>\n",
              "      <td>0.000000</td>\n",
              "      <td>0.000000</td>\n",
              "    </tr>\n",
              "    <tr>\n",
              "      <th>carry</th>\n",
              "      <td>0.000000</td>\n",
              "      <td>0.896644</td>\n",
              "      <td>0.784465</td>\n",
              "      <td>0.710806</td>\n",
              "      <td>0.554700</td>\n",
              "      <td>1.000000</td>\n",
              "      <td>0.693375</td>\n",
              "      <td>0.554700</td>\n",
              "      <td>0.000000</td>\n",
              "      <td>0.000000</td>\n",
              "      <td>0.784465</td>\n",
              "      <td>0.784465</td>\n",
              "      <td>0.000000</td>\n",
              "      <td>0.000000</td>\n",
              "      <td>0.000000</td>\n",
              "    </tr>\n",
              "    <tr>\n",
              "      <th>eat</th>\n",
              "      <td>0.000000</td>\n",
              "      <td>0.808224</td>\n",
              "      <td>0.707107</td>\n",
              "      <td>0.753778</td>\n",
              "      <td>0.500000</td>\n",
              "      <td>0.693375</td>\n",
              "      <td>1.000000</td>\n",
              "      <td>0.500000</td>\n",
              "      <td>0.000000</td>\n",
              "      <td>0.000000</td>\n",
              "      <td>0.707107</td>\n",
              "      <td>0.707107</td>\n",
              "      <td>0.000000</td>\n",
              "      <td>0.000000</td>\n",
              "      <td>0.000000</td>\n",
              "    </tr>\n",
              "    <tr>\n",
              "      <th>eats</th>\n",
              "      <td>0.000000</td>\n",
              "      <td>0.808224</td>\n",
              "      <td>0.707107</td>\n",
              "      <td>0.603023</td>\n",
              "      <td>0.500000</td>\n",
              "      <td>0.554700</td>\n",
              "      <td>0.500000</td>\n",
              "      <td>1.000000</td>\n",
              "      <td>0.000000</td>\n",
              "      <td>0.000000</td>\n",
              "      <td>0.707107</td>\n",
              "      <td>0.707107</td>\n",
              "      <td>0.000000</td>\n",
              "      <td>0.000000</td>\n",
              "      <td>0.000000</td>\n",
              "    </tr>\n",
              "    <tr>\n",
              "      <th>he</th>\n",
              "      <td>0.407344</td>\n",
              "      <td>0.000000</td>\n",
              "      <td>0.000000</td>\n",
              "      <td>0.000000</td>\n",
              "      <td>0.000000</td>\n",
              "      <td>0.000000</td>\n",
              "      <td>0.000000</td>\n",
              "      <td>0.000000</td>\n",
              "      <td>1.000000</td>\n",
              "      <td>0.462910</td>\n",
              "      <td>0.000000</td>\n",
              "      <td>0.000000</td>\n",
              "      <td>0.365148</td>\n",
              "      <td>0.226455</td>\n",
              "      <td>0.408248</td>\n",
              "    </tr>\n",
              "    <tr>\n",
              "      <th>i</th>\n",
              "      <td>0.578262</td>\n",
              "      <td>0.000000</td>\n",
              "      <td>0.000000</td>\n",
              "      <td>0.000000</td>\n",
              "      <td>0.000000</td>\n",
              "      <td>0.000000</td>\n",
              "      <td>0.000000</td>\n",
              "      <td>0.000000</td>\n",
              "      <td>0.462910</td>\n",
              "      <td>1.000000</td>\n",
              "      <td>0.000000</td>\n",
              "      <td>0.000000</td>\n",
              "      <td>0.676123</td>\n",
              "      <td>0.733799</td>\n",
              "      <td>0.377964</td>\n",
              "    </tr>\n",
              "    <tr>\n",
              "      <th>orange</th>\n",
              "      <td>0.000000</td>\n",
              "      <td>0.889001</td>\n",
              "      <td>1.000000</td>\n",
              "      <td>0.852803</td>\n",
              "      <td>0.707107</td>\n",
              "      <td>0.784465</td>\n",
              "      <td>0.707107</td>\n",
              "      <td>0.707107</td>\n",
              "      <td>0.000000</td>\n",
              "      <td>0.000000</td>\n",
              "      <td>1.000000</td>\n",
              "      <td>1.000000</td>\n",
              "      <td>0.000000</td>\n",
              "      <td>0.000000</td>\n",
              "      <td>0.000000</td>\n",
              "    </tr>\n",
              "    <tr>\n",
              "      <th>pear</th>\n",
              "      <td>0.000000</td>\n",
              "      <td>0.889001</td>\n",
              "      <td>1.000000</td>\n",
              "      <td>0.852803</td>\n",
              "      <td>0.707107</td>\n",
              "      <td>0.784465</td>\n",
              "      <td>0.707107</td>\n",
              "      <td>0.707107</td>\n",
              "      <td>0.000000</td>\n",
              "      <td>0.000000</td>\n",
              "      <td>1.000000</td>\n",
              "      <td>1.000000</td>\n",
              "      <td>0.000000</td>\n",
              "      <td>0.000000</td>\n",
              "      <td>0.000000</td>\n",
              "    </tr>\n",
              "    <tr>\n",
              "      <th>she</th>\n",
              "      <td>0.446223</td>\n",
              "      <td>0.000000</td>\n",
              "      <td>0.000000</td>\n",
              "      <td>0.000000</td>\n",
              "      <td>0.000000</td>\n",
              "      <td>0.000000</td>\n",
              "      <td>0.000000</td>\n",
              "      <td>0.000000</td>\n",
              "      <td>0.365148</td>\n",
              "      <td>0.676123</td>\n",
              "      <td>0.000000</td>\n",
              "      <td>0.000000</td>\n",
              "      <td>1.000000</td>\n",
              "      <td>0.496139</td>\n",
              "      <td>0.000000</td>\n",
              "    </tr>\n",
              "    <tr>\n",
              "      <th>they</th>\n",
              "      <td>0.479675</td>\n",
              "      <td>0.000000</td>\n",
              "      <td>0.000000</td>\n",
              "      <td>0.000000</td>\n",
              "      <td>0.000000</td>\n",
              "      <td>0.000000</td>\n",
              "      <td>0.000000</td>\n",
              "      <td>0.000000</td>\n",
              "      <td>0.226455</td>\n",
              "      <td>0.733799</td>\n",
              "      <td>0.000000</td>\n",
              "      <td>0.000000</td>\n",
              "      <td>0.496139</td>\n",
              "      <td>1.000000</td>\n",
              "      <td>0.000000</td>\n",
              "    </tr>\n",
              "    <tr>\n",
              "      <th>we</th>\n",
              "      <td>0.266076</td>\n",
              "      <td>0.000000</td>\n",
              "      <td>0.000000</td>\n",
              "      <td>0.000000</td>\n",
              "      <td>0.000000</td>\n",
              "      <td>0.000000</td>\n",
              "      <td>0.000000</td>\n",
              "      <td>0.000000</td>\n",
              "      <td>0.408248</td>\n",
              "      <td>0.377964</td>\n",
              "      <td>0.000000</td>\n",
              "      <td>0.000000</td>\n",
              "      <td>0.000000</td>\n",
              "      <td>0.000000</td>\n",
              "      <td>1.000000</td>\n",
              "    </tr>\n",
              "  </tbody>\n",
              "</table>\n",
              "</div>"
            ],
            "text/plain": [
              "                a       ate    banana    bought   carries     carry       eat  \\\n",
              "a        1.000000  0.000000  0.000000  0.000000  0.000000  0.000000  0.000000   \n",
              "ate      0.000000  1.000000  0.889001  0.839372  0.718421  0.896644  0.808224   \n",
              "banana   0.000000  0.889001  1.000000  0.852803  0.707107  0.784465  0.707107   \n",
              "bought   0.000000  0.839372  0.852803  1.000000  0.753778  0.710806  0.753778   \n",
              "carries  0.000000  0.718421  0.707107  0.753778  1.000000  0.554700  0.500000   \n",
              "carry    0.000000  0.896644  0.784465  0.710806  0.554700  1.000000  0.693375   \n",
              "eat      0.000000  0.808224  0.707107  0.753778  0.500000  0.693375  1.000000   \n",
              "eats     0.000000  0.808224  0.707107  0.603023  0.500000  0.554700  0.500000   \n",
              "he       0.407344  0.000000  0.000000  0.000000  0.000000  0.000000  0.000000   \n",
              "i        0.578262  0.000000  0.000000  0.000000  0.000000  0.000000  0.000000   \n",
              "orange   0.000000  0.889001  1.000000  0.852803  0.707107  0.784465  0.707107   \n",
              "pear     0.000000  0.889001  1.000000  0.852803  0.707107  0.784465  0.707107   \n",
              "she      0.446223  0.000000  0.000000  0.000000  0.000000  0.000000  0.000000   \n",
              "they     0.479675  0.000000  0.000000  0.000000  0.000000  0.000000  0.000000   \n",
              "we       0.266076  0.000000  0.000000  0.000000  0.000000  0.000000  0.000000   \n",
              "\n",
              "             eats        he         i    orange      pear       she      they  \\\n",
              "a        0.000000  0.407344  0.578262  0.000000  0.000000  0.446223  0.479675   \n",
              "ate      0.808224  0.000000  0.000000  0.889001  0.889001  0.000000  0.000000   \n",
              "banana   0.707107  0.000000  0.000000  1.000000  1.000000  0.000000  0.000000   \n",
              "bought   0.603023  0.000000  0.000000  0.852803  0.852803  0.000000  0.000000   \n",
              "carries  0.500000  0.000000  0.000000  0.707107  0.707107  0.000000  0.000000   \n",
              "carry    0.554700  0.000000  0.000000  0.784465  0.784465  0.000000  0.000000   \n",
              "eat      0.500000  0.000000  0.000000  0.707107  0.707107  0.000000  0.000000   \n",
              "eats     1.000000  0.000000  0.000000  0.707107  0.707107  0.000000  0.000000   \n",
              "he       0.000000  1.000000  0.462910  0.000000  0.000000  0.365148  0.226455   \n",
              "i        0.000000  0.462910  1.000000  0.000000  0.000000  0.676123  0.733799   \n",
              "orange   0.707107  0.000000  0.000000  1.000000  1.000000  0.000000  0.000000   \n",
              "pear     0.707107  0.000000  0.000000  1.000000  1.000000  0.000000  0.000000   \n",
              "she      0.000000  0.365148  0.676123  0.000000  0.000000  1.000000  0.496139   \n",
              "they     0.000000  0.226455  0.733799  0.000000  0.000000  0.496139  1.000000   \n",
              "we       0.000000  0.408248  0.377964  0.000000  0.000000  0.000000  0.000000   \n",
              "\n",
              "               we  \n",
              "a        0.266076  \n",
              "ate      0.000000  \n",
              "banana   0.000000  \n",
              "bought   0.000000  \n",
              "carries  0.000000  \n",
              "carry    0.000000  \n",
              "eat      0.000000  \n",
              "eats     0.000000  \n",
              "he       0.408248  \n",
              "i        0.377964  \n",
              "orange   0.000000  \n",
              "pear     0.000000  \n",
              "she      0.000000  \n",
              "they     0.000000  \n",
              "we       1.000000  "
            ]
          },
          "execution_count": 23,
          "metadata": {},
          "output_type": "execute_result"
        }
      ],
      "source": [
        "similarity"
      ]
    },
    {
      "cell_type": "code",
      "execution_count": null,
      "metadata": {
        "id": "8pC6V8q1F9h-"
      },
      "outputs": [],
      "source": [
        "similarity_euclidean = pd.DataFrame(euclidean_distances(word_co_occurences), index=vocab, columns = vocab)"
      ]
    },
    {
      "cell_type": "code",
      "execution_count": null,
      "metadata": {
        "scrolled": true,
        "id": "NjnW-ehgF9h-",
        "outputId": "b24f918d-fdaa-4f3c-b1aa-97c1023dfa27"
      },
      "outputs": [
        {
          "data": {
            "text/html": [
              "<div>\n",
              "<style scoped>\n",
              "    .dataframe tbody tr th:only-of-type {\n",
              "        vertical-align: middle;\n",
              "    }\n",
              "\n",
              "    .dataframe tbody tr th {\n",
              "        vertical-align: top;\n",
              "    }\n",
              "\n",
              "    .dataframe thead th {\n",
              "        text-align: right;\n",
              "    }\n",
              "</style>\n",
              "<table border=\"1\" class=\"dataframe\">\n",
              "  <thead>\n",
              "    <tr style=\"text-align: right;\">\n",
              "      <th></th>\n",
              "      <th>a</th>\n",
              "      <th>ate</th>\n",
              "      <th>banana</th>\n",
              "      <th>bought</th>\n",
              "      <th>carries</th>\n",
              "      <th>carry</th>\n",
              "      <th>eat</th>\n",
              "      <th>eats</th>\n",
              "      <th>he</th>\n",
              "      <th>i</th>\n",
              "      <th>orange</th>\n",
              "      <th>pear</th>\n",
              "      <th>she</th>\n",
              "      <th>they</th>\n",
              "      <th>we</th>\n",
              "    </tr>\n",
              "  </thead>\n",
              "  <tbody>\n",
              "    <tr>\n",
              "      <th>a</th>\n",
              "      <td>0.000000</td>\n",
              "      <td>16.970563</td>\n",
              "      <td>17.521415</td>\n",
              "      <td>15.748016</td>\n",
              "      <td>15.297059</td>\n",
              "      <td>15.874508</td>\n",
              "      <td>15.099669</td>\n",
              "      <td>15.099669</td>\n",
              "      <td>14.212670</td>\n",
              "      <td>13.674794</td>\n",
              "      <td>15.329710</td>\n",
              "      <td>16.583124</td>\n",
              "      <td>14.177447</td>\n",
              "      <td>13.674794</td>\n",
              "      <td>14.628739</td>\n",
              "    </tr>\n",
              "    <tr>\n",
              "      <th>ate</th>\n",
              "      <td>16.970563</td>\n",
              "      <td>0.000000</td>\n",
              "      <td>4.123106</td>\n",
              "      <td>4.690416</td>\n",
              "      <td>6.164414</td>\n",
              "      <td>4.000000</td>\n",
              "      <td>6.782330</td>\n",
              "      <td>6.782330</td>\n",
              "      <td>8.246211</td>\n",
              "      <td>8.306624</td>\n",
              "      <td>5.385165</td>\n",
              "      <td>3.605551</td>\n",
              "      <td>8.185353</td>\n",
              "      <td>8.660254</td>\n",
              "      <td>8.124038</td>\n",
              "    </tr>\n",
              "    <tr>\n",
              "      <th>banana</th>\n",
              "      <td>17.521415</td>\n",
              "      <td>4.123106</td>\n",
              "      <td>0.000000</td>\n",
              "      <td>5.567764</td>\n",
              "      <td>7.280110</td>\n",
              "      <td>5.916080</td>\n",
              "      <td>8.062258</td>\n",
              "      <td>8.062258</td>\n",
              "      <td>9.327379</td>\n",
              "      <td>9.380832</td>\n",
              "      <td>6.000000</td>\n",
              "      <td>2.000000</td>\n",
              "      <td>9.273618</td>\n",
              "      <td>9.695360</td>\n",
              "      <td>9.219544</td>\n",
              "    </tr>\n",
              "    <tr>\n",
              "      <th>bought</th>\n",
              "      <td>15.748016</td>\n",
              "      <td>4.690416</td>\n",
              "      <td>5.567764</td>\n",
              "      <td>0.000000</td>\n",
              "      <td>3.162278</td>\n",
              "      <td>3.741657</td>\n",
              "      <td>3.741657</td>\n",
              "      <td>4.000000</td>\n",
              "      <td>5.291503</td>\n",
              "      <td>5.385165</td>\n",
              "      <td>2.645751</td>\n",
              "      <td>3.872983</td>\n",
              "      <td>5.196152</td>\n",
              "      <td>5.916080</td>\n",
              "      <td>5.099020</td>\n",
              "    </tr>\n",
              "    <tr>\n",
              "      <th>carries</th>\n",
              "      <td>15.297059</td>\n",
              "      <td>6.164414</td>\n",
              "      <td>7.280110</td>\n",
              "      <td>3.162278</td>\n",
              "      <td>0.000000</td>\n",
              "      <td>4.242641</td>\n",
              "      <td>2.449490</td>\n",
              "      <td>2.449490</td>\n",
              "      <td>3.741657</td>\n",
              "      <td>3.872983</td>\n",
              "      <td>2.236068</td>\n",
              "      <td>5.385165</td>\n",
              "      <td>3.605551</td>\n",
              "      <td>4.582576</td>\n",
              "      <td>3.464102</td>\n",
              "    </tr>\n",
              "    <tr>\n",
              "      <th>carry</th>\n",
              "      <td>15.874508</td>\n",
              "      <td>4.000000</td>\n",
              "      <td>5.916080</td>\n",
              "      <td>3.741657</td>\n",
              "      <td>4.242641</td>\n",
              "      <td>0.000000</td>\n",
              "      <td>4.242641</td>\n",
              "      <td>4.472136</td>\n",
              "      <td>5.656854</td>\n",
              "      <td>5.744563</td>\n",
              "      <td>3.316625</td>\n",
              "      <td>4.358899</td>\n",
              "      <td>5.567764</td>\n",
              "      <td>6.244998</td>\n",
              "      <td>5.477226</td>\n",
              "    </tr>\n",
              "    <tr>\n",
              "      <th>eat</th>\n",
              "      <td>15.099669</td>\n",
              "      <td>6.782330</td>\n",
              "      <td>8.062258</td>\n",
              "      <td>3.741657</td>\n",
              "      <td>2.449490</td>\n",
              "      <td>4.242641</td>\n",
              "      <td>0.000000</td>\n",
              "      <td>1.414214</td>\n",
              "      <td>2.828427</td>\n",
              "      <td>3.000000</td>\n",
              "      <td>2.236068</td>\n",
              "      <td>6.082763</td>\n",
              "      <td>2.645751</td>\n",
              "      <td>3.872983</td>\n",
              "      <td>2.449490</td>\n",
              "    </tr>\n",
              "    <tr>\n",
              "      <th>eats</th>\n",
              "      <td>15.099669</td>\n",
              "      <td>6.782330</td>\n",
              "      <td>8.062258</td>\n",
              "      <td>4.000000</td>\n",
              "      <td>2.449490</td>\n",
              "      <td>4.472136</td>\n",
              "      <td>1.414214</td>\n",
              "      <td>0.000000</td>\n",
              "      <td>2.828427</td>\n",
              "      <td>3.000000</td>\n",
              "      <td>2.236068</td>\n",
              "      <td>6.082763</td>\n",
              "      <td>2.645751</td>\n",
              "      <td>3.872983</td>\n",
              "      <td>2.449490</td>\n",
              "    </tr>\n",
              "    <tr>\n",
              "      <th>he</th>\n",
              "      <td>14.212670</td>\n",
              "      <td>8.246211</td>\n",
              "      <td>9.327379</td>\n",
              "      <td>5.291503</td>\n",
              "      <td>3.741657</td>\n",
              "      <td>5.656854</td>\n",
              "      <td>2.828427</td>\n",
              "      <td>2.828427</td>\n",
              "      <td>0.000000</td>\n",
              "      <td>2.645751</td>\n",
              "      <td>3.872983</td>\n",
              "      <td>7.416198</td>\n",
              "      <td>2.645751</td>\n",
              "      <td>3.872983</td>\n",
              "      <td>2.449490</td>\n",
              "    </tr>\n",
              "    <tr>\n",
              "      <th>i</th>\n",
              "      <td>13.674794</td>\n",
              "      <td>8.306624</td>\n",
              "      <td>9.380832</td>\n",
              "      <td>5.385165</td>\n",
              "      <td>3.872983</td>\n",
              "      <td>5.744563</td>\n",
              "      <td>3.000000</td>\n",
              "      <td>3.000000</td>\n",
              "      <td>2.645751</td>\n",
              "      <td>0.000000</td>\n",
              "      <td>4.000000</td>\n",
              "      <td>7.483315</td>\n",
              "      <td>2.000000</td>\n",
              "      <td>2.449490</td>\n",
              "      <td>2.645751</td>\n",
              "    </tr>\n",
              "    <tr>\n",
              "      <th>orange</th>\n",
              "      <td>15.329710</td>\n",
              "      <td>5.385165</td>\n",
              "      <td>6.000000</td>\n",
              "      <td>2.645751</td>\n",
              "      <td>2.236068</td>\n",
              "      <td>3.316625</td>\n",
              "      <td>2.236068</td>\n",
              "      <td>2.236068</td>\n",
              "      <td>3.872983</td>\n",
              "      <td>4.000000</td>\n",
              "      <td>0.000000</td>\n",
              "      <td>4.000000</td>\n",
              "      <td>3.741657</td>\n",
              "      <td>4.690416</td>\n",
              "      <td>3.605551</td>\n",
              "    </tr>\n",
              "    <tr>\n",
              "      <th>pear</th>\n",
              "      <td>16.583124</td>\n",
              "      <td>3.605551</td>\n",
              "      <td>2.000000</td>\n",
              "      <td>3.872983</td>\n",
              "      <td>5.385165</td>\n",
              "      <td>4.358899</td>\n",
              "      <td>6.082763</td>\n",
              "      <td>6.082763</td>\n",
              "      <td>7.416198</td>\n",
              "      <td>7.483315</td>\n",
              "      <td>4.000000</td>\n",
              "      <td>0.000000</td>\n",
              "      <td>7.348469</td>\n",
              "      <td>7.874008</td>\n",
              "      <td>7.280110</td>\n",
              "    </tr>\n",
              "    <tr>\n",
              "      <th>she</th>\n",
              "      <td>14.177447</td>\n",
              "      <td>8.185353</td>\n",
              "      <td>9.273618</td>\n",
              "      <td>5.196152</td>\n",
              "      <td>3.605551</td>\n",
              "      <td>5.567764</td>\n",
              "      <td>2.645751</td>\n",
              "      <td>2.645751</td>\n",
              "      <td>2.645751</td>\n",
              "      <td>2.000000</td>\n",
              "      <td>3.741657</td>\n",
              "      <td>7.348469</td>\n",
              "      <td>0.000000</td>\n",
              "      <td>3.162278</td>\n",
              "      <td>3.000000</td>\n",
              "    </tr>\n",
              "    <tr>\n",
              "      <th>they</th>\n",
              "      <td>13.674794</td>\n",
              "      <td>8.660254</td>\n",
              "      <td>9.695360</td>\n",
              "      <td>5.916080</td>\n",
              "      <td>4.582576</td>\n",
              "      <td>6.244998</td>\n",
              "      <td>3.872983</td>\n",
              "      <td>3.872983</td>\n",
              "      <td>3.872983</td>\n",
              "      <td>2.449490</td>\n",
              "      <td>4.690416</td>\n",
              "      <td>7.874008</td>\n",
              "      <td>3.162278</td>\n",
              "      <td>0.000000</td>\n",
              "      <td>4.123106</td>\n",
              "    </tr>\n",
              "    <tr>\n",
              "      <th>we</th>\n",
              "      <td>14.628739</td>\n",
              "      <td>8.124038</td>\n",
              "      <td>9.219544</td>\n",
              "      <td>5.099020</td>\n",
              "      <td>3.464102</td>\n",
              "      <td>5.477226</td>\n",
              "      <td>2.449490</td>\n",
              "      <td>2.449490</td>\n",
              "      <td>2.449490</td>\n",
              "      <td>2.645751</td>\n",
              "      <td>3.605551</td>\n",
              "      <td>7.280110</td>\n",
              "      <td>3.000000</td>\n",
              "      <td>4.123106</td>\n",
              "      <td>0.000000</td>\n",
              "    </tr>\n",
              "  </tbody>\n",
              "</table>\n",
              "</div>"
            ],
            "text/plain": [
              "                 a        ate     banana     bought    carries      carry  \\\n",
              "a         0.000000  16.970563  17.521415  15.748016  15.297059  15.874508   \n",
              "ate      16.970563   0.000000   4.123106   4.690416   6.164414   4.000000   \n",
              "banana   17.521415   4.123106   0.000000   5.567764   7.280110   5.916080   \n",
              "bought   15.748016   4.690416   5.567764   0.000000   3.162278   3.741657   \n",
              "carries  15.297059   6.164414   7.280110   3.162278   0.000000   4.242641   \n",
              "carry    15.874508   4.000000   5.916080   3.741657   4.242641   0.000000   \n",
              "eat      15.099669   6.782330   8.062258   3.741657   2.449490   4.242641   \n",
              "eats     15.099669   6.782330   8.062258   4.000000   2.449490   4.472136   \n",
              "he       14.212670   8.246211   9.327379   5.291503   3.741657   5.656854   \n",
              "i        13.674794   8.306624   9.380832   5.385165   3.872983   5.744563   \n",
              "orange   15.329710   5.385165   6.000000   2.645751   2.236068   3.316625   \n",
              "pear     16.583124   3.605551   2.000000   3.872983   5.385165   4.358899   \n",
              "she      14.177447   8.185353   9.273618   5.196152   3.605551   5.567764   \n",
              "they     13.674794   8.660254   9.695360   5.916080   4.582576   6.244998   \n",
              "we       14.628739   8.124038   9.219544   5.099020   3.464102   5.477226   \n",
              "\n",
              "               eat       eats         he          i     orange       pear  \\\n",
              "a        15.099669  15.099669  14.212670  13.674794  15.329710  16.583124   \n",
              "ate       6.782330   6.782330   8.246211   8.306624   5.385165   3.605551   \n",
              "banana    8.062258   8.062258   9.327379   9.380832   6.000000   2.000000   \n",
              "bought    3.741657   4.000000   5.291503   5.385165   2.645751   3.872983   \n",
              "carries   2.449490   2.449490   3.741657   3.872983   2.236068   5.385165   \n",
              "carry     4.242641   4.472136   5.656854   5.744563   3.316625   4.358899   \n",
              "eat       0.000000   1.414214   2.828427   3.000000   2.236068   6.082763   \n",
              "eats      1.414214   0.000000   2.828427   3.000000   2.236068   6.082763   \n",
              "he        2.828427   2.828427   0.000000   2.645751   3.872983   7.416198   \n",
              "i         3.000000   3.000000   2.645751   0.000000   4.000000   7.483315   \n",
              "orange    2.236068   2.236068   3.872983   4.000000   0.000000   4.000000   \n",
              "pear      6.082763   6.082763   7.416198   7.483315   4.000000   0.000000   \n",
              "she       2.645751   2.645751   2.645751   2.000000   3.741657   7.348469   \n",
              "they      3.872983   3.872983   3.872983   2.449490   4.690416   7.874008   \n",
              "we        2.449490   2.449490   2.449490   2.645751   3.605551   7.280110   \n",
              "\n",
              "               she       they         we  \n",
              "a        14.177447  13.674794  14.628739  \n",
              "ate       8.185353   8.660254   8.124038  \n",
              "banana    9.273618   9.695360   9.219544  \n",
              "bought    5.196152   5.916080   5.099020  \n",
              "carries   3.605551   4.582576   3.464102  \n",
              "carry     5.567764   6.244998   5.477226  \n",
              "eat       2.645751   3.872983   2.449490  \n",
              "eats      2.645751   3.872983   2.449490  \n",
              "he        2.645751   3.872983   2.449490  \n",
              "i         2.000000   2.449490   2.645751  \n",
              "orange    3.741657   4.690416   3.605551  \n",
              "pear      7.348469   7.874008   7.280110  \n",
              "she       0.000000   3.162278   3.000000  \n",
              "they      3.162278   0.000000   4.123106  \n",
              "we        3.000000   4.123106   0.000000  "
            ]
          },
          "execution_count": 25,
          "metadata": {},
          "output_type": "execute_result"
        }
      ],
      "source": [
        "similarity_euclidean"
      ]
    },
    {
      "cell_type": "markdown",
      "metadata": {
        "id": "AFwvuWi1F9h-"
      },
      "source": [
        "Notice how `euclidean_distance` represents the distances in a less effective way. In `NLP` processes, the `cosine_similarity` is normally used because of the fact that it does not take into account the magnitude of the vector (only the direction)."
      ]
    },
    {
      "cell_type": "markdown",
      "metadata": {
        "id": "WjLNht86F9h-"
      },
      "source": [
        "Let's do a function that extracts the most similar words for a specific word, according to our similarity matrix:"
      ]
    },
    {
      "cell_type": "code",
      "execution_count": null,
      "metadata": {
        "id": "i0eno-QPF9h-"
      },
      "outputs": [],
      "source": [
        "def get_similar_word(word):\n",
        "    return similarity.loc[word].sort_values(ascending=False).head(3)"
      ]
    },
    {
      "cell_type": "code",
      "execution_count": null,
      "metadata": {
        "id": "ase-Rmi8F9h-",
        "outputId": "b64eceef-4f37-4eb0-88a6-7286a86dd1bb"
      },
      "outputs": [
        {
          "data": {
            "text/plain": [
              "banana    1.0\n",
              "orange    1.0\n",
              "pear      1.0\n",
              "Name: banana, dtype: float64"
            ]
          },
          "execution_count": 27,
          "metadata": {},
          "output_type": "execute_result"
        }
      ],
      "source": [
        "get_similar_word('banana')"
      ]
    },
    {
      "cell_type": "code",
      "execution_count": null,
      "metadata": {
        "id": "MIGG3vsDF9h-",
        "outputId": "91493eeb-3882-46c7-c3c7-b6aaf87b72b7"
      },
      "outputs": [
        {
          "data": {
            "text/plain": [
              "banana    1.0\n",
              "orange    1.0\n",
              "pear      1.0\n",
              "Name: orange, dtype: float64"
            ]
          },
          "execution_count": 28,
          "metadata": {},
          "output_type": "execute_result"
        }
      ],
      "source": [
        "get_similar_word('orange')"
      ]
    },
    {
      "cell_type": "code",
      "execution_count": null,
      "metadata": {
        "id": "JCnaOyf3F9h_",
        "outputId": "a2bcc210-915f-4491-e488-01430df91b05"
      },
      "outputs": [
        {
          "data": {
            "text/plain": [
              "ate       1.000000\n",
              "carry     0.896644\n",
              "banana    0.889001\n",
              "Name: ate, dtype: float64"
            ]
          },
          "execution_count": 29,
          "metadata": {},
          "output_type": "execute_result"
        }
      ],
      "source": [
        "get_similar_word('ate')"
      ]
    },
    {
      "cell_type": "code",
      "execution_count": null,
      "metadata": {
        "id": "-c1eALNgF9h_",
        "outputId": "a81adf29-8a56-4eef-b65c-6f84c60048e1"
      },
      "outputs": [
        {
          "data": {
            "text/plain": [
              "i       1.000000\n",
              "they    0.733799\n",
              "she     0.676123\n",
              "Name: i, dtype: float64"
            ]
          },
          "execution_count": 30,
          "metadata": {},
          "output_type": "execute_result"
        }
      ],
      "source": [
        "get_similar_word('i')"
      ]
    },
    {
      "cell_type": "markdown",
      "metadata": {
        "id": "_FE3XpvPF9h_"
      },
      "source": [
        "# Visualizing Vectors"
      ]
    },
    {
      "cell_type": "markdown",
      "metadata": {
        "id": "asYx4qMGF9h_"
      },
      "source": [
        "Let's visualize some vectors using `matplotlib` and `seaborn`:"
      ]
    },
    {
      "cell_type": "code",
      "execution_count": null,
      "metadata": {
        "id": "9qkkaxzKF9h_"
      },
      "outputs": [],
      "source": [
        "array_example = np.array([[0, 0, 5, 2], [0, 0, -5, -2]])"
      ]
    },
    {
      "cell_type": "markdown",
      "metadata": {
        "id": "KdcTewvuF9h_"
      },
      "source": [
        "Notice how these two vectors fire to different directions in a 2-D space:"
      ]
    },
    {
      "cell_type": "code",
      "execution_count": null,
      "metadata": {
        "id": "O301YQ7FF9h_",
        "outputId": "f68d6cb2-83c2-4731-daa6-fdf41138db2c"
      },
      "outputs": [
        {
          "data": {
            "image/png": "[encoded data removed]",
            "text/plain": [
              "<Figure size 640x480 with 1 Axes>"
            ]
          },
          "metadata": {},
          "output_type": "display_data"
        }
      ],
      "source": [
        "X, Y, U, V = zip(*array_example)\n",
        "fig = plt.figure()\n",
        "ax = fig.add_subplot(111)\n",
        "ax.quiver(X, Y, U, V, angles='xy', scale_units='xy', scale=0.5, color=['r','g'])\n",
        "ax.spines['left'].set_position('zero')\n",
        "ax.spines['right'].set_color('none')\n",
        "ax.spines['bottom'].set_position('zero')\n",
        "ax.spines['top'].set_color('none')"
      ]
    },
    {
      "cell_type": "markdown",
      "metadata": {
        "id": "T69MOrOYF9h_"
      },
      "source": [
        "The vectors above are completely opposite and they will have a cosine similarity of `-1`. The cosine distance of these vectors is 2 as the angle that they produce is 180º:"
      ]
    },
    {
      "cell_type": "code",
      "execution_count": null,
      "metadata": {
        "id": "ClpswqjWF9iA",
        "outputId": "fb7ff156-9620-4355-c4dc-75e33758a5ca"
      },
      "outputs": [
        {
          "data": {
            "text/plain": [
              "array([[ 1., -1.],\n",
              "       [-1.,  1.]])"
            ]
          },
          "execution_count": 35,
          "metadata": {},
          "output_type": "execute_result"
        }
      ],
      "source": [
        "cosine_similarity(np.array([[5,2],[-5,-2]]))"
      ]
    },
    {
      "cell_type": "markdown",
      "metadata": {
        "id": "SX1TiRjTF9iA"
      },
      "source": [
        "An example of an orthogonal vector is the following:"
      ]
    },
    {
      "cell_type": "code",
      "execution_count": null,
      "metadata": {
        "id": "JoTebISgF9iA",
        "outputId": "55ab6613-eff5-4cc4-dc05-aafb7a6eced2"
      },
      "outputs": [
        {
          "data": {
            "image/png": "[encoded data removed]",
            "text/plain": [
              "<Figure size 640x480 with 1 Axes>"
            ]
          },
          "metadata": {},
          "output_type": "display_data"
        }
      ],
      "source": [
        "array_example = np.array([[0, 0, 0, 5], [0, 0, 5, 0]])\n",
        "X, Y, U, V = zip(*array_example)\n",
        "fig = plt.figure()\n",
        "ax = fig.add_subplot(111)\n",
        "ax.quiver(X, Y, U, V, angles='xy', scale_units='xy', scale=0.5, color=['r','g'])\n",
        "ax.spines['left'].set_position('zero')\n",
        "ax.spines['right'].set_color('none')\n",
        "ax.spines['bottom'].set_position('zero')\n",
        "ax.spines['top'].set_color('none')"
      ]
    },
    {
      "cell_type": "markdown",
      "metadata": {
        "id": "a5g3bY2rF9iA"
      },
      "source": [
        "Can you guess the cosine similarity of these vectors?"
      ]
    },
    {
      "cell_type": "code",
      "execution_count": null,
      "metadata": {
        "id": "ufUe8aoSF9iA",
        "outputId": "bcc6f549-43e7-4a6c-f88e-13d5683ff79d"
      },
      "outputs": [
        {
          "data": {
            "text/plain": [
              "array([[1., 0.],\n",
              "       [0., 1.]])"
            ]
          },
          "execution_count": 37,
          "metadata": {},
          "output_type": "execute_result"
        }
      ],
      "source": [
        "cosine_similarity(array_example)"
      ]
    },
    {
      "cell_type": "markdown",
      "metadata": {
        "id": "BT0JkX8XF9iA"
      },
      "source": [
        "Perpendicular vectors have a similarity of 0!"
      ]
    },
    {
      "cell_type": "markdown",
      "metadata": {
        "id": "JeF0hp1IF9iB"
      },
      "source": [
        "The formula for cosine similarity is shown below but just keep in mind that a `cosine_similarity = 1` means that the vectors go to the same point in space. In the plots below we are considering a 2-dimensional space (x and y) but this behavior generalizes for `n-dimensional` vectors (such as the 15-dimensional vectors we have produced on our examples!)."
      ]
    },
    {
      "cell_type": "markdown",
      "metadata": {
        "id": "q6rROrLgF9iB"
      },
      "source": [
        "![cosine-similarity.png](attachment:cosine-similarity.png)"
      ]
    }
  ],
  "metadata": {
    "kernelspec": {
      "display_name": "Python 3 (ipykernel)",
      "language": "python",
      "name": "python3"
    },
    "language_info": {
      "codemirror_mode": {
        "name": "ipython",
        "version": 3
      },
      "file_extension": ".py",
      "mimetype": "text/x-python",
      "name": "python",
      "nbconvert_exporter": "python",
      "pygments_lexer": "ipython3",
      "version": "3.9.13"
    },
    "colab": {
      "provenance": []
    }
  },
  "nbformat": 4,
  "nbformat_minor": 0
}